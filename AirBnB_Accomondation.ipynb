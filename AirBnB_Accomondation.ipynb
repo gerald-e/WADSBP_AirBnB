{
 "cells": [
  {
   "cell_type": "markdown",
   "metadata": {},
   "source": [
    "# Project AirBnB Berlin Exploration \n",
    "\n",
    "This project predict a good place to life in Berlin. One hint for this prediction can be found in the AirBnB data base. This project was completed as the part \"Write a Data Science Blog Post\" of the course requirements of Udacity's [Data Scientist Nanodegree](https://www.udacity.com/course/data-scientist-nanodegree--nd025) certification. \n",
    "\n",
    "\n",
    "## Table of Contents\n",
    "<ol>\n",
    "    <li><a href=\"#intro\">Introduction</a></li>\n",
    "    <li><a href=\"#business\">Business Understanding - Problem Statement</a></li>\n",
    "    <li><a href=\"#Gather\">Gather</a></li>\n",
    "    <li><a href=\"#GetData\">Get the data</a>\n",
    "    <li><a href=\"#DataUnder\">Data Understanding</a>\n",
    "    <ol type=\"1\">\n",
    "        <li><a href=\"#calendar\">Calendar</a></li>\n",
    "        <li><a href=\"#listings\">Listings</a></li>\n",
    "        <li><a href=\"#reviews\">Reviews</a></li>\n",
    "        <li><a href=\"#listsum\">Listings Summary</a></li>\n",
    "        <li><a href=\"#nbhoods\">Neighbourhood</a></li> \n",
    "        <li><a href=\"#nbhgeos\">Neighbourhood GeoInformation</a></li> \n",
    "    </ol></li>\n",
    "    <li><a href=\"#DataPrep\">Data Preparation</a>\n",
    "    <ol type=\"1\">\n",
    "        <li><a href=\"#clean\">Cleaning</a>\n",
    "        <li><a href=\"#engineer\">Feature Engineering</a>\n",
    "    </ol></li>\n",
    "    <li><a href=\"#Model\">Modeling</a>\n",
    "    <ol type=\"1\">\n",
    "        <li><a href=\"#ModelRevenue\">Build models to predict listing revenues</a></li>\n",
    "        <li><a href=\"#ModelRecommend\">Recommend what we normally want</a></li>\n",
    "        <li><a href=\"#ModelEncodeRFCPCA\">Encode it and enjoy Random Forest Classifier</a></li> \n",
    "        <li><a href=\"#ModelTime\">Time trends</a></li> \n",
    "    </ol></li>\n",
    "    <li><a href=\"#Eval\">Evaluation, design and show the results</a>\n",
    "    <ol type=\"1\">\n",
    "        <li><a href=\"#EvalData\">Nice Data in the Neighbourhood</a></li>\n",
    "        <li><a href=\"#EvalGoogle\">A picture can help</a></li>\n",
    "        <li><a href=\"#EvalConclusion\">Conclusion</a></li>\n",
    "    </ol></li>\n",
    "    <li><a href=\"#Deploy\">Deployment</a>\n",
    "</ol>"
   ]
  },
  {
   "cell_type": "markdown",
   "metadata": {},
   "source": [
    "<a id='intro'></a>\n",
    "## 1. Introduction\n",
    "\n",
    "The data explored in this notebook was obtained from the [InSide Airbnb Open Data](http://insideairbnb.com/get-the-data.html). The data contains information about the availability of the listings, the characteristics of the listing and host, and reviews provided by guests staying at the listing thru September 2019.\n",
    "\n",
    "It will be explored implementing the Cross-Industry Standard Process for Data Mining (CRISP-DM) process as part of the Write a Data Science Blog Post project requirements for Udacity's Data Scientist Nanodegree. The CRISP-DM process encompasses six elements:\n",
    "\n",
    "1. Business Understanding\n",
    "2. Data Understanding\n",
    "3. Data Preparation\n",
    "4. Modeling\n",
    "5. Evaluation\n",
    "6. Deployment\n",
    "\n",
    "The data will be gathered and initial exploration completed to enable the first two elements to be completed. Deployment will take the form of a blog post targeted at a general audience, informing them of the action items."
   ]
  },
  {
   "cell_type": "markdown",
   "metadata": {},
   "source": [
    "<a id='business'></a>\n",
    "## 2. Problem Statement - Business Understanding\n",
    "\n",
    "To save time, I am looking for an apartment in Berlin for my daughter. One great idea is to rummage through data from AirBnB. Let's see what comes out ...\n",
    "\n",
    "For this analysis I will answer the following 4 questions:\n",
    "\n",
    "1. What is the booking load?\n",
    "2. How is the district scoring?\n",
    "3. What are the revenues of the district?\n",
    "4. Where can I find the best place to live?\n",
    "\n",
    "Since September 2019, there are about 24,000 Airbnb entries in the twelve Berlin districts. I assume that I will limit my search to one or two parts of the city. My analysis is based on the assumption that I can draw a conclusion on my questions from the room prices, the rating and the booking behavior. **I ask a machine learning algorithm to find patterns in the data and group similar entries in clusters**"
   ]
  },
  {
   "cell_type": "markdown",
   "metadata": {},
   "source": [
    "<a id='Gather'></a>\n",
    "## 3. Gather \n",
    "\n",
    "First, let's read the  necessary libraries and set initial value."
   ]
  },
  {
   "cell_type": "code",
   "execution_count": 1,
   "metadata": {},
   "outputs": [],
   "source": [
    "import pandas as pd\n",
    "import numpy as np\n",
    "from sklearn.impute import SimpleImputer\n",
    "from sklearn.model_selection import train_test_split\n",
    "from sklearn.ensemble import RandomForestClassifier\n",
    "from sklearn.decomposition import PCA\n",
    "from sklearn.preprocessing import StandardScaler, LabelEncoder\n",
    "from sklearn.metrics import accuracy_score\n",
    "import math, random, time, locale\n",
    "from typing import List\n",
    "from IPython import display\n",
    "import matplotlib.pyplot as plt\n",
    "import seaborn as sns\n",
    "import geopandas \n",
    "import json\n",
    "from bokeh.models import Slider, Range1d, ColorBar, HoverTool, Select, Patches, \\\n",
    "GeoJSONDataSource, LinearColorMapper, NumeralTickFormatter\n",
    "from bokeh.palettes import brewer\n",
    "from bokeh.plotting import figure\n",
    "from bokeh.layouts import widgetbox, row, column\n",
    "from bokeh.core.validation.warnings import EMPTY_LAYOUT, MISSING_RENDERERS\n",
    "from bokeh.core.validation import silence\n",
    "from bokeh.io import output_notebook, show, output_file, curdoc\n",
    "\n",
    "silence(EMPTY_LAYOUT, True)\n",
    "silence(MISSING_RENDERERS, True)\n",
    "%matplotlib inline\n",
    "# Notebook options\n",
    "# pd.options.display.max_rows = 99999\n",
    "# pd.options.display.max_columns = 99999\n",
    "# pd.options.display.float_format = '{:20,.3f}'.format\n",
    "\n",
    "# Set figure aesthetics\n",
    "# sns.set_style(\"white\", {'ytick.major.size': 10.0})\n",
    "# sns.set_context(\"poster\", font_scale=1.1)"
   ]
  },
  {
   "cell_type": "code",
   "execution_count": 2,
   "metadata": {},
   "outputs": [
    {
     "name": "stdout",
     "output_type": "stream",
     "text": [
      "Python 3.7.3\n"
     ]
    }
   ],
   "source": [
    "!python --version"
   ]
  },
  {
   "cell_type": "markdown",
   "metadata": {},
   "source": [
    "<a id='GetData'></a>\n",
    "## 4. Get the data\n",
    "\n",
    "In this first section of the notebook we will get the data which will be used for the analysis. The data comes from CSV sources. Lets look at each one of these more closely to see which one we will use for our analysis.\n",
    "\n",
    "[Tom Slee](https://github.com/tomslee/airbnb-data-collection) has developed a very good method with the **Airbnb web site scraper**. This allows direct access to the current AirBnB data. Unfortunately, I could not persuade the scraper to run in my environment. Therefore, I decided to load the data directly to my computer."
   ]
  },
  {
   "cell_type": "markdown",
   "metadata": {},
   "source": [
    "At first I look which data are avialable:\n",
    "\n",
    "- **listings.csv**\t\t\tDetailed Listings data for Berlin City\n",
    "- **calendar.csv**\t\t\tDetailed Calendar Data for listings in Berlin City\n",
    "- **reviews.csv**\t\t\t\tDetailed Review Data for listings in Berlin City\n",
    "- **neighbourhoods.csv**\t\tNeighbourhood list for geo filter. Sourced from city or open source GIS files.\n",
    "- **listings_summary.csv**\tSummary information and metrics for listings in Berlin City (good for visualisations).\n",
    "- **reviews_summary.csv**\t\tSummary Review data and Listing ID (to facilitate time based analytics and visualisations linked to a listing).\n",
    "- **neighbourhoods.geojson**\tGeoJSON file of neighbourhoods of the city.\n",
    "\n",
    "The main information for my predidiciton I'll see in the first 4 files."
   ]
  },
  {
   "cell_type": "code",
   "execution_count": 3,
   "metadata": {},
   "outputs": [],
   "source": [
    "calendar = pd.read_csv('./data/calendar.csv')\n",
    "listings = pd.read_csv('./data/listings.csv')\n",
    "listsum = pd.read_csv('./data/listings_summary.csv')\n",
    "reviews = pd.read_csv('./data/reviews.csv')\n",
    "nbhoods = pd.read_csv('./data/neighbourhoods.csv')\n",
    "nbhgeos = geopandas.read_file('./data/neighbourhoods.geojson')"
   ]
  },
  {
   "cell_type": "markdown",
   "metadata": {},
   "source": [
    "<a id='DataUnder'></a>\n",
    "## 5. Data Understanding\n",
    "\n",
    "In order to get a better understanding of the data I'll looking closer, let's take a look at some of the characteristics of the dataset."
   ]
  },
  {
   "cell_type": "code",
   "execution_count": 4,
   "metadata": {},
   "outputs": [],
   "source": [
    "def summary(data):\n",
    "    \"\"\" \n",
    "    Give a summary of the dataset\n",
    "   \n",
    "    Input:\n",
    "    data (DF): DataFrame\n",
    "\n",
    "    Returns:\n",
    "    Print statement with data shape and percentage\n",
    "    \"\"\"\n",
    "    data.info(verbose=True)\n",
    "    print('\\n')\n",
    "    print((data.isnull().sum()[data.isnull().sum()>0]/data.shape[0])*100)\n",
    "    print('\\n')  \n",
    "    print(\"no missing values\")\n",
    "    print(set(data.columns[data.isnull().mean()==0])) #Provide a set of columns with 0 missing values.\n",
    "    print('\\n')\n",
    "    print(\"most missing values\")\n",
    "    print(set(data.columns[data.isnull().mean() > 0.75])) #Provide a set of columns with more than 75% of the values missing  "
   ]
  },
  {
   "cell_type": "markdown",
   "metadata": {},
   "source": [
    "<a id='Data'></a>\n",
    "## 5.1. Calender\n",
    "\n",
    "The dataset contains info on the availability lists per id by date, including if the id was available and the listing price."
   ]
  },
  {
   "cell_type": "code",
   "execution_count": 5,
   "metadata": {},
   "outputs": [
    {
     "name": "stdout",
     "output_type": "stream",
     "text": [
      "<class 'pandas.core.frame.DataFrame'>\n",
      "RangeIndex: 8914030 entries, 0 to 8914029\n",
      "Data columns (total 7 columns):\n",
      "listing_id        int64\n",
      "date              object\n",
      "available         object\n",
      "price             object\n",
      "adjusted_price    object\n",
      "minimum_nights    int64\n",
      "maximum_nights    int64\n",
      "dtypes: int64(3), object(4)\n",
      "memory usage: 476.1+ MB\n",
      "\n",
      "\n",
      "price             0.002042\n",
      "adjusted_price    0.002042\n",
      "dtype: float64\n",
      "\n",
      "\n",
      "no missing values\n",
      "{'listing_id', 'date', 'available', 'maximum_nights', 'minimum_nights'}\n",
      "\n",
      "\n",
      "most missing values\n",
      "set()\n"
     ]
    }
   ],
   "source": [
    "summary(calendar)"
   ]
  },
  {
   "cell_type": "code",
   "execution_count": 6,
   "metadata": {},
   "outputs": [
    {
     "data": {
      "text/html": [
       "<div>\n",
       "<style scoped>\n",
       "    .dataframe tbody tr th:only-of-type {\n",
       "        vertical-align: middle;\n",
       "    }\n",
       "\n",
       "    .dataframe tbody tr th {\n",
       "        vertical-align: top;\n",
       "    }\n",
       "\n",
       "    .dataframe thead th {\n",
       "        text-align: right;\n",
       "    }\n",
       "</style>\n",
       "<table border=\"1\" class=\"dataframe\">\n",
       "  <thead>\n",
       "    <tr style=\"text-align: right;\">\n",
       "      <th></th>\n",
       "      <th>listing_id</th>\n",
       "      <th>date</th>\n",
       "      <th>available</th>\n",
       "      <th>price</th>\n",
       "      <th>adjusted_price</th>\n",
       "      <th>minimum_nights</th>\n",
       "      <th>maximum_nights</th>\n",
       "    </tr>\n",
       "  </thead>\n",
       "  <tbody>\n",
       "    <tr>\n",
       "      <th>0</th>\n",
       "      <td>38570229</td>\n",
       "      <td>2019-09-19</td>\n",
       "      <td>t</td>\n",
       "      <td>$130.00</td>\n",
       "      <td>$130.00</td>\n",
       "      <td>1</td>\n",
       "      <td>1125</td>\n",
       "    </tr>\n",
       "    <tr>\n",
       "      <th>1</th>\n",
       "      <td>38570229</td>\n",
       "      <td>2019-09-20</td>\n",
       "      <td>t</td>\n",
       "      <td>$142.00</td>\n",
       "      <td>$142.00</td>\n",
       "      <td>1</td>\n",
       "      <td>1125</td>\n",
       "    </tr>\n",
       "    <tr>\n",
       "      <th>2</th>\n",
       "      <td>38570229</td>\n",
       "      <td>2019-09-21</td>\n",
       "      <td>t</td>\n",
       "      <td>$158.00</td>\n",
       "      <td>$158.00</td>\n",
       "      <td>1</td>\n",
       "      <td>1125</td>\n",
       "    </tr>\n",
       "    <tr>\n",
       "      <th>3</th>\n",
       "      <td>38570229</td>\n",
       "      <td>2019-09-22</td>\n",
       "      <td>t</td>\n",
       "      <td>$129.00</td>\n",
       "      <td>$129.00</td>\n",
       "      <td>1</td>\n",
       "      <td>1125</td>\n",
       "    </tr>\n",
       "    <tr>\n",
       "      <th>4</th>\n",
       "      <td>38570229</td>\n",
       "      <td>2019-09-23</td>\n",
       "      <td>f</td>\n",
       "      <td>$129.00</td>\n",
       "      <td>$129.00</td>\n",
       "      <td>1</td>\n",
       "      <td>1125</td>\n",
       "    </tr>\n",
       "  </tbody>\n",
       "</table>\n",
       "</div>"
      ],
      "text/plain": [
       "   listing_id        date available    price adjusted_price  minimum_nights  \\\n",
       "0    38570229  2019-09-19         t  $130.00        $130.00               1   \n",
       "1    38570229  2019-09-20         t  $142.00        $142.00               1   \n",
       "2    38570229  2019-09-21         t  $158.00        $158.00               1   \n",
       "3    38570229  2019-09-22         t  $129.00        $129.00               1   \n",
       "4    38570229  2019-09-23         f  $129.00        $129.00               1   \n",
       "\n",
       "   maximum_nights  \n",
       "0            1125  \n",
       "1            1125  \n",
       "2            1125  \n",
       "3            1125  \n",
       "4            1125  "
      ]
     },
     "execution_count": 6,
     "metadata": {},
     "output_type": "execute_result"
    }
   ],
   "source": [
    "calendar.head()"
   ]
  },
  {
   "cell_type": "code",
   "execution_count": 7,
   "metadata": {},
   "outputs": [
    {
     "data": {
      "text/plain": [
       "$50.00       448022\n",
       "$35.00       406709\n",
       "$40.00       403210\n",
       "$30.00       403016\n",
       "$25.00       344485\n",
       "$45.00       334209\n",
       "$60.00       310626\n",
       "$55.00       245057\n",
       "$70.00       224326\n",
       "$65.00       215032\n",
       "$80.00       213521\n",
       "$75.00       161982\n",
       "$100.00      159022\n",
       "$20.00       155239\n",
       "$90.00       142019\n",
       "$39.00       140771\n",
       "$49.00       126544\n",
       "$42.00       122011\n",
       "$23.00       112650\n",
       "$85.00       111947\n",
       "$29.00       111733\n",
       "$120.00      104743\n",
       "$22.00       101102\n",
       "$28.00        99129\n",
       "$38.00        97865\n",
       "$32.00        97422\n",
       "$59.00        96354\n",
       "$69.00        86636\n",
       "$27.00        84787\n",
       "$95.00        84066\n",
       "              ...  \n",
       "$827.00           1\n",
       "$864.00           1\n",
       "$626.00           1\n",
       "$728.00           1\n",
       "$673.00           1\n",
       "$1,145.00         1\n",
       "$1,232.00         1\n",
       "$1,674.00         1\n",
       "$6,011.00         1\n",
       "$919.00           1\n",
       "$1,871.00         1\n",
       "$1,048.00         1\n",
       "$759.00           1\n",
       "$1,214.00         1\n",
       "$872.00           1\n",
       "$6,060.00         1\n",
       "$1,723.00         1\n",
       "$828.00           1\n",
       "$609.00           1\n",
       "$640.00           1\n",
       "$1,178.00         1\n",
       "$1,113.00         1\n",
       "$945.00           1\n",
       "$6,120.00         1\n",
       "$1,211.00         1\n",
       "$756.00           1\n",
       "$7,074.00         1\n",
       "$710.00           1\n",
       "$1,247.00         1\n",
       "$726.00           1\n",
       "Name: price, Length: 893, dtype: int64"
      ]
     },
     "execution_count": 7,
     "metadata": {},
     "output_type": "execute_result"
    }
   ],
   "source": [
    "# not realy intressting ... for a later analyzis \n",
    "calendar.price.value_counts()"
   ]
  },
  {
   "cell_type": "markdown",
   "metadata": {},
   "source": [
    "The dataset contains 7 columns with almost 8.9 Million rows of data.\n",
    "\n",
    "#### Data Issues in CALENDAR Identified \n",
    "- **listing_id**: <span style=\"color:green\">convert to `str`</span>\n",
    "- **date**: <span style=\"color:green\"> convert to `datetime`</span>\n",
    "- **available**: <span style=\"color:green\">convert to dummy</span>\n",
    "- **price**: <span style=\"color:green\">drop the currency sign and convert to float/int</span>\n",
    "- **adjusted_price**: <span style=\"color:green\">drop the currency sign and convert to float/int</span>\n",
    "- **minimum_nights**: <span style=\"color:green\">can be deleted</span>\n",
    "- **maximum_nights**: <span style=\"color:green\">can be deleted</span>\n",
    "\n",
    "It appears that while a decimal point is included in the prices, no price actually include cents. Based on what can be viewed above, the lowest price is around 25 Dollar while the highest price ranges close to 900 Dollar. All higher price are could be a mistake, a hotel offer or a flat in Bundestag :-) . "
   ]
  },
  {
   "cell_type": "markdown",
   "metadata": {},
   "source": [
    "<a id='listings'></a>\n",
    "## 5.2. Listings"
   ]
  },
  {
   "cell_type": "code",
   "execution_count": 8,
   "metadata": {},
   "outputs": [
    {
     "name": "stdout",
     "output_type": "stream",
     "text": [
      "<class 'pandas.core.frame.DataFrame'>\n",
      "RangeIndex: 24422 entries, 0 to 24421\n",
      "Data columns (total 106 columns):\n",
      "id                                              int64\n",
      "listing_url                                     object\n",
      "scrape_id                                       int64\n",
      "last_scraped                                    object\n",
      "name                                            object\n",
      "summary                                         object\n",
      "space                                           object\n",
      "description                                     object\n",
      "experiences_offered                             object\n",
      "neighborhood_overview                           object\n",
      "notes                                           object\n",
      "transit                                         object\n",
      "access                                          object\n",
      "interaction                                     object\n",
      "house_rules                                     object\n",
      "thumbnail_url                                   float64\n",
      "medium_url                                      float64\n",
      "picture_url                                     object\n",
      "xl_picture_url                                  float64\n",
      "host_id                                         int64\n",
      "host_url                                        object\n",
      "host_name                                       object\n",
      "host_since                                      object\n",
      "host_location                                   object\n",
      "host_about                                      object\n",
      "host_response_time                              object\n",
      "host_response_rate                              object\n",
      "host_acceptance_rate                            float64\n",
      "host_is_superhost                               object\n",
      "host_thumbnail_url                              object\n",
      "host_picture_url                                object\n",
      "host_neighbourhood                              object\n",
      "host_listings_count                             float64\n",
      "host_total_listings_count                       float64\n",
      "host_verifications                              object\n",
      "host_has_profile_pic                            object\n",
      "host_identity_verified                          object\n",
      "street                                          object\n",
      "neighbourhood                                   object\n",
      "neighbourhood_cleansed                          object\n",
      "neighbourhood_group_cleansed                    object\n",
      "city                                            object\n",
      "state                                           object\n",
      "zipcode                                         object\n",
      "market                                          object\n",
      "smart_location                                  object\n",
      "country_code                                    object\n",
      "country                                         object\n",
      "latitude                                        float64\n",
      "longitude                                       float64\n",
      "is_location_exact                               object\n",
      "property_type                                   object\n",
      "room_type                                       object\n",
      "accommodates                                    int64\n",
      "bathrooms                                       float64\n",
      "bedrooms                                        float64\n",
      "beds                                            float64\n",
      "bed_type                                        object\n",
      "amenities                                       object\n",
      "square_feet                                     float64\n",
      "price                                           object\n",
      "weekly_price                                    object\n",
      "monthly_price                                   object\n",
      "security_deposit                                object\n",
      "cleaning_fee                                    object\n",
      "guests_included                                 int64\n",
      "extra_people                                    object\n",
      "minimum_nights                                  int64\n",
      "maximum_nights                                  int64\n",
      "minimum_minimum_nights                          int64\n",
      "maximum_minimum_nights                          int64\n",
      "minimum_maximum_nights                          int64\n",
      "maximum_maximum_nights                          int64\n",
      "minimum_nights_avg_ntm                          float64\n",
      "maximum_nights_avg_ntm                          float64\n",
      "calendar_updated                                object\n",
      "has_availability                                object\n",
      "availability_30                                 int64\n",
      "availability_60                                 int64\n",
      "availability_90                                 int64\n",
      "availability_365                                int64\n",
      "calendar_last_scraped                           object\n",
      "number_of_reviews                               int64\n",
      "number_of_reviews_ltm                           int64\n",
      "first_review                                    object\n",
      "last_review                                     object\n",
      "review_scores_rating                            float64\n",
      "review_scores_accuracy                          float64\n",
      "review_scores_cleanliness                       float64\n",
      "review_scores_checkin                           float64\n",
      "review_scores_communication                     float64\n",
      "review_scores_location                          float64\n",
      "review_scores_value                             float64\n",
      "requires_license                                object\n",
      "license                                         object\n",
      "jurisdiction_names                              float64\n",
      "instant_bookable                                object\n",
      "is_business_travel_ready                        object\n",
      "cancellation_policy                             object\n",
      "require_guest_profile_picture                   object\n",
      "require_guest_phone_verification                object\n",
      "calculated_host_listings_count                  int64\n",
      "calculated_host_listings_count_entire_homes     int64\n",
      "calculated_host_listings_count_private_rooms    int64\n",
      "calculated_host_listings_count_shared_rooms     int64\n",
      "reviews_per_month                               float64\n",
      "dtypes: float64(23), int64(21), object(62)\n",
      "memory usage: 19.8+ MB\n",
      "\n",
      "\n",
      "name                             0.208828\n",
      "summary                          4.876750\n",
      "space                           35.165015\n",
      "description                      1.576447\n",
      "neighborhood_overview           44.517239\n",
      "notes                           67.783146\n",
      "transit                         38.813365\n",
      "access                          53.640161\n",
      "interaction                     50.122840\n",
      "house_rules                     49.308001\n",
      "thumbnail_url                  100.000000\n",
      "medium_url                     100.000000\n",
      "xl_picture_url                 100.000000\n",
      "host_name                        0.131029\n",
      "host_since                       0.131029\n",
      "host_location                    0.487266\n",
      "host_about                      50.606011\n",
      "host_response_time              42.629596\n",
      "host_response_rate              42.629596\n",
      "host_acceptance_rate           100.000000\n",
      "host_is_superhost                0.131029\n",
      "host_thumbnail_url               0.131029\n",
      "host_picture_url                 0.131029\n",
      "host_neighbourhood              21.402834\n",
      "host_listings_count              0.131029\n",
      "host_total_listings_count        0.131029\n",
      "host_has_profile_pic             0.131029\n",
      "host_identity_verified           0.131029\n",
      "neighbourhood                    0.004095\n",
      "city                             0.024568\n",
      "state                            0.507739\n",
      "zipcode                          2.284825\n",
      "market                           0.237491\n",
      "bathrooms                        0.102367\n",
      "bedrooms                         0.094177\n",
      "beds                             0.118745\n",
      "square_feet                     98.239292\n",
      "weekly_price                    86.802883\n",
      "monthly_price                   90.500369\n",
      "security_deposit                38.932110\n",
      "cleaning_fee                    29.457047\n",
      "first_review                    16.935550\n",
      "last_review                     16.935550\n",
      "review_scores_rating            18.876423\n",
      "review_scores_accuracy          18.978790\n",
      "review_scores_cleanliness       18.966506\n",
      "review_scores_checkin           19.056588\n",
      "review_scores_communication     18.986979\n",
      "review_scores_location          19.052494\n",
      "review_scores_value             19.064778\n",
      "license                         89.779707\n",
      "jurisdiction_names             100.000000\n",
      "cancellation_policy              0.004095\n",
      "reviews_per_month               16.935550\n",
      "dtype: float64\n",
      "\n",
      "\n",
      "no missing values\n"
     ]
    },
    {
     "name": "stdout",
     "output_type": "stream",
     "text": [
      "{'number_of_reviews_ltm', 'guests_included', 'availability_90', 'availability_365', 'price', 'property_type', 'accommodates', 'minimum_nights', 'bed_type', 'minimum_minimum_nights', 'availability_60', 'smart_location', 'calculated_host_listings_count_private_rooms', 'picture_url', 'calculated_host_listings_count', 'maximum_nights_avg_ntm', 'minimum_maximum_nights', 'host_verifications', 'require_guest_profile_picture', 'neighbourhood_group_cleansed', 'maximum_maximum_nights', 'country', 'room_type', 'availability_30', 'minimum_nights_avg_ntm', 'calculated_host_listings_count_entire_homes', 'experiences_offered', 'listing_url', 'calculated_host_listings_count_shared_rooms', 'host_id', 'calendar_last_scraped', 'host_url', 'has_availability', 'require_guest_phone_verification', 'amenities', 'maximum_nights', 'latitude', 'extra_people', 'requires_license', 'number_of_reviews', 'last_scraped', 'scrape_id', 'neighbourhood_cleansed', 'is_location_exact', 'instant_bookable', 'is_business_travel_ready', 'id', 'longitude', 'calendar_updated', 'country_code', 'maximum_minimum_nights', 'street'}\n",
      "\n",
      "\n",
      "most missing values\n",
      "{'jurisdiction_names', 'medium_url', 'square_feet', 'xl_picture_url', 'monthly_price', 'weekly_price', 'thumbnail_url', 'host_acceptance_rate', 'license'}\n"
     ]
    }
   ],
   "source": [
    "summary(listings)"
   ]
  },
  {
   "cell_type": "code",
   "execution_count": 9,
   "metadata": {},
   "outputs": [
    {
     "data": {
      "text/html": [
       "<div>\n",
       "<style scoped>\n",
       "    .dataframe tbody tr th:only-of-type {\n",
       "        vertical-align: middle;\n",
       "    }\n",
       "\n",
       "    .dataframe tbody tr th {\n",
       "        vertical-align: top;\n",
       "    }\n",
       "\n",
       "    .dataframe thead th {\n",
       "        text-align: right;\n",
       "    }\n",
       "</style>\n",
       "<table border=\"1\" class=\"dataframe\">\n",
       "  <thead>\n",
       "    <tr style=\"text-align: right;\">\n",
       "      <th></th>\n",
       "      <th>id</th>\n",
       "      <th>listing_url</th>\n",
       "      <th>scrape_id</th>\n",
       "      <th>last_scraped</th>\n",
       "      <th>name</th>\n",
       "      <th>summary</th>\n",
       "      <th>space</th>\n",
       "      <th>description</th>\n",
       "      <th>experiences_offered</th>\n",
       "      <th>neighborhood_overview</th>\n",
       "      <th>...</th>\n",
       "      <th>instant_bookable</th>\n",
       "      <th>is_business_travel_ready</th>\n",
       "      <th>cancellation_policy</th>\n",
       "      <th>require_guest_profile_picture</th>\n",
       "      <th>require_guest_phone_verification</th>\n",
       "      <th>calculated_host_listings_count</th>\n",
       "      <th>calculated_host_listings_count_entire_homes</th>\n",
       "      <th>calculated_host_listings_count_private_rooms</th>\n",
       "      <th>calculated_host_listings_count_shared_rooms</th>\n",
       "      <th>reviews_per_month</th>\n",
       "    </tr>\n",
       "  </thead>\n",
       "  <tbody>\n",
       "    <tr>\n",
       "      <th>0</th>\n",
       "      <td>1944</td>\n",
       "      <td>https://www.airbnb.com/rooms/1944</td>\n",
       "      <td>20190919050244</td>\n",
       "      <td>2019-09-19</td>\n",
       "      <td>cafeheaven Pberg/Mitte/Wed for the summer 2019</td>\n",
       "      <td>Private, bright and friendly room. You'd be sh...</td>\n",
       "      <td>The room is very large, private, cozy, bright,...</td>\n",
       "      <td>Private, bright and friendly room. You'd be sh...</td>\n",
       "      <td>none</td>\n",
       "      <td>near all the trendy cafés and flea markets and...</td>\n",
       "      <td>...</td>\n",
       "      <td>f</td>\n",
       "      <td>f</td>\n",
       "      <td>moderate</td>\n",
       "      <td>f</td>\n",
       "      <td>f</td>\n",
       "      <td>1</td>\n",
       "      <td>0</td>\n",
       "      <td>1</td>\n",
       "      <td>0</td>\n",
       "      <td>0.25</td>\n",
       "    </tr>\n",
       "    <tr>\n",
       "      <th>1</th>\n",
       "      <td>2015</td>\n",
       "      <td>https://www.airbnb.com/rooms/2015</td>\n",
       "      <td>20190919050244</td>\n",
       "      <td>2019-09-19</td>\n",
       "      <td>Berlin-Mitte Value! Quiet courtyard/very central</td>\n",
       "      <td>Great location!  30 of 75 sq meters. This wood...</td>\n",
       "      <td>A+++ location! This „Einliegerwohnung“ is an e...</td>\n",
       "      <td>Great location!  30 of 75 sq meters. This wood...</td>\n",
       "      <td>none</td>\n",
       "      <td>It is located in the former East Berlin area o...</td>\n",
       "      <td>...</td>\n",
       "      <td>f</td>\n",
       "      <td>f</td>\n",
       "      <td>moderate</td>\n",
       "      <td>f</td>\n",
       "      <td>f</td>\n",
       "      <td>5</td>\n",
       "      <td>5</td>\n",
       "      <td>0</td>\n",
       "      <td>0</td>\n",
       "      <td>3.03</td>\n",
       "    </tr>\n",
       "    <tr>\n",
       "      <th>2</th>\n",
       "      <td>3176</td>\n",
       "      <td>https://www.airbnb.com/rooms/3176</td>\n",
       "      <td>20190919050244</td>\n",
       "      <td>2019-09-19</td>\n",
       "      <td>Fabulous Flat in great Location</td>\n",
       "      <td>This beautiful first floor apartment  is situa...</td>\n",
       "      <td>1st floor (68m2) apartment on Kollwitzplatz/ P...</td>\n",
       "      <td>This beautiful first floor apartment  is situa...</td>\n",
       "      <td>none</td>\n",
       "      <td>The neighbourhood is famous for its variety of...</td>\n",
       "      <td>...</td>\n",
       "      <td>f</td>\n",
       "      <td>f</td>\n",
       "      <td>strict_14_with_grace_period</td>\n",
       "      <td>f</td>\n",
       "      <td>f</td>\n",
       "      <td>1</td>\n",
       "      <td>1</td>\n",
       "      <td>0</td>\n",
       "      <td>0</td>\n",
       "      <td>1.16</td>\n",
       "    </tr>\n",
       "    <tr>\n",
       "      <th>3</th>\n",
       "      <td>3309</td>\n",
       "      <td>https://www.airbnb.com/rooms/3309</td>\n",
       "      <td>20190919050244</td>\n",
       "      <td>2019-09-19</td>\n",
       "      <td>BerlinSpot Schöneberg near KaDeWe</td>\n",
       "      <td>First of all: I prefer short-notice bookings. ...</td>\n",
       "      <td>Your room is really big and has 26 sqm, is ver...</td>\n",
       "      <td>First of all: I prefer short-notice bookings. ...</td>\n",
       "      <td>none</td>\n",
       "      <td>My flat is in the middle of West-Berlin, direc...</td>\n",
       "      <td>...</td>\n",
       "      <td>f</td>\n",
       "      <td>f</td>\n",
       "      <td>strict_14_with_grace_period</td>\n",
       "      <td>f</td>\n",
       "      <td>f</td>\n",
       "      <td>1</td>\n",
       "      <td>0</td>\n",
       "      <td>1</td>\n",
       "      <td>0</td>\n",
       "      <td>0.36</td>\n",
       "    </tr>\n",
       "    <tr>\n",
       "      <th>4</th>\n",
       "      <td>6883</td>\n",
       "      <td>https://www.airbnb.com/rooms/6883</td>\n",
       "      <td>20190919050244</td>\n",
       "      <td>2019-09-19</td>\n",
       "      <td>Stylish East Side Loft in Center with AC &amp; 2 b...</td>\n",
       "      <td>NaN</td>\n",
       "      <td>Stay in a stylish loft on the second floor and...</td>\n",
       "      <td>Stay in a stylish loft on the second floor and...</td>\n",
       "      <td>none</td>\n",
       "      <td>The emerging and upcoming East of the new hip ...</td>\n",
       "      <td>...</td>\n",
       "      <td>f</td>\n",
       "      <td>f</td>\n",
       "      <td>moderate</td>\n",
       "      <td>f</td>\n",
       "      <td>t</td>\n",
       "      <td>1</td>\n",
       "      <td>1</td>\n",
       "      <td>0</td>\n",
       "      <td>0</td>\n",
       "      <td>1.08</td>\n",
       "    </tr>\n",
       "  </tbody>\n",
       "</table>\n",
       "<p>5 rows × 106 columns</p>\n",
       "</div>"
      ],
      "text/plain": [
       "     id                        listing_url       scrape_id last_scraped  \\\n",
       "0  1944  https://www.airbnb.com/rooms/1944  20190919050244   2019-09-19   \n",
       "1  2015  https://www.airbnb.com/rooms/2015  20190919050244   2019-09-19   \n",
       "2  3176  https://www.airbnb.com/rooms/3176  20190919050244   2019-09-19   \n",
       "3  3309  https://www.airbnb.com/rooms/3309  20190919050244   2019-09-19   \n",
       "4  6883  https://www.airbnb.com/rooms/6883  20190919050244   2019-09-19   \n",
       "\n",
       "                                                name  \\\n",
       "0     cafeheaven Pberg/Mitte/Wed for the summer 2019   \n",
       "1   Berlin-Mitte Value! Quiet courtyard/very central   \n",
       "2                    Fabulous Flat in great Location   \n",
       "3                  BerlinSpot Schöneberg near KaDeWe   \n",
       "4  Stylish East Side Loft in Center with AC & 2 b...   \n",
       "\n",
       "                                             summary  \\\n",
       "0  Private, bright and friendly room. You'd be sh...   \n",
       "1  Great location!  30 of 75 sq meters. This wood...   \n",
       "2  This beautiful first floor apartment  is situa...   \n",
       "3  First of all: I prefer short-notice bookings. ...   \n",
       "4                                                NaN   \n",
       "\n",
       "                                               space  \\\n",
       "0  The room is very large, private, cozy, bright,...   \n",
       "1  A+++ location! This „Einliegerwohnung“ is an e...   \n",
       "2  1st floor (68m2) apartment on Kollwitzplatz/ P...   \n",
       "3  Your room is really big and has 26 sqm, is ver...   \n",
       "4  Stay in a stylish loft on the second floor and...   \n",
       "\n",
       "                                         description experiences_offered  \\\n",
       "0  Private, bright and friendly room. You'd be sh...                none   \n",
       "1  Great location!  30 of 75 sq meters. This wood...                none   \n",
       "2  This beautiful first floor apartment  is situa...                none   \n",
       "3  First of all: I prefer short-notice bookings. ...                none   \n",
       "4  Stay in a stylish loft on the second floor and...                none   \n",
       "\n",
       "                               neighborhood_overview  ... instant_bookable  \\\n",
       "0  near all the trendy cafés and flea markets and...  ...                f   \n",
       "1  It is located in the former East Berlin area o...  ...                f   \n",
       "2  The neighbourhood is famous for its variety of...  ...                f   \n",
       "3  My flat is in the middle of West-Berlin, direc...  ...                f   \n",
       "4  The emerging and upcoming East of the new hip ...  ...                f   \n",
       "\n",
       "  is_business_travel_ready          cancellation_policy  \\\n",
       "0                        f                     moderate   \n",
       "1                        f                     moderate   \n",
       "2                        f  strict_14_with_grace_period   \n",
       "3                        f  strict_14_with_grace_period   \n",
       "4                        f                     moderate   \n",
       "\n",
       "  require_guest_profile_picture require_guest_phone_verification  \\\n",
       "0                             f                                f   \n",
       "1                             f                                f   \n",
       "2                             f                                f   \n",
       "3                             f                                f   \n",
       "4                             f                                t   \n",
       "\n",
       "   calculated_host_listings_count  \\\n",
       "0                               1   \n",
       "1                               5   \n",
       "2                               1   \n",
       "3                               1   \n",
       "4                               1   \n",
       "\n",
       "   calculated_host_listings_count_entire_homes  \\\n",
       "0                                            0   \n",
       "1                                            5   \n",
       "2                                            1   \n",
       "3                                            0   \n",
       "4                                            1   \n",
       "\n",
       "  calculated_host_listings_count_private_rooms  \\\n",
       "0                                            1   \n",
       "1                                            0   \n",
       "2                                            0   \n",
       "3                                            1   \n",
       "4                                            0   \n",
       "\n",
       "   calculated_host_listings_count_shared_rooms  reviews_per_month  \n",
       "0                                            0               0.25  \n",
       "1                                            0               3.03  \n",
       "2                                            0               1.16  \n",
       "3                                            0               0.36  \n",
       "4                                            0               1.08  \n",
       "\n",
       "[5 rows x 106 columns]"
      ]
     },
     "execution_count": 9,
     "metadata": {},
     "output_type": "execute_result"
    }
   ],
   "source": [
    "listings.head()"
   ]
  },
  {
   "cell_type": "markdown",
   "metadata": {},
   "source": [
    "\n",
    "Need more detail information about the columns\n"
   ]
  },
  {
   "cell_type": "code",
   "execution_count": 10,
   "metadata": {},
   "outputs": [
    {
     "data": {
      "text/html": [
       "<div>\n",
       "<style scoped>\n",
       "    .dataframe tbody tr th:only-of-type {\n",
       "        vertical-align: middle;\n",
       "    }\n",
       "\n",
       "    .dataframe tbody tr th {\n",
       "        vertical-align: top;\n",
       "    }\n",
       "\n",
       "    .dataframe thead th {\n",
       "        text-align: right;\n",
       "    }\n",
       "</style>\n",
       "<table border=\"1\" class=\"dataframe\">\n",
       "  <thead>\n",
       "    <tr style=\"text-align: right;\">\n",
       "      <th></th>\n",
       "      <th>id</th>\n",
       "    </tr>\n",
       "    <tr>\n",
       "      <th>room_type</th>\n",
       "      <th></th>\n",
       "    </tr>\n",
       "  </thead>\n",
       "  <tbody>\n",
       "    <tr>\n",
       "      <th>Entire home/apt</th>\n",
       "      <td>12136</td>\n",
       "    </tr>\n",
       "    <tr>\n",
       "      <th>Hotel room</th>\n",
       "      <td>348</td>\n",
       "    </tr>\n",
       "    <tr>\n",
       "      <th>Private room</th>\n",
       "      <td>11638</td>\n",
       "    </tr>\n",
       "    <tr>\n",
       "      <th>Shared room</th>\n",
       "      <td>300</td>\n",
       "    </tr>\n",
       "  </tbody>\n",
       "</table>\n",
       "</div>"
      ],
      "text/plain": [
       "                    id\n",
       "room_type             \n",
       "Entire home/apt  12136\n",
       "Hotel room         348\n",
       "Private room     11638\n",
       "Shared room        300"
      ]
     },
     "execution_count": 10,
     "metadata": {},
     "output_type": "execute_result"
    }
   ],
   "source": [
    "listings.groupby(['room_type']).agg({'id':'count'})"
   ]
  },
  {
   "cell_type": "code",
   "execution_count": 11,
   "metadata": {},
   "outputs": [
    {
     "data": {
      "text/html": [
       "<div>\n",
       "<style scoped>\n",
       "    .dataframe tbody tr th:only-of-type {\n",
       "        vertical-align: middle;\n",
       "    }\n",
       "\n",
       "    .dataframe tbody tr th {\n",
       "        vertical-align: top;\n",
       "    }\n",
       "\n",
       "    .dataframe thead th {\n",
       "        text-align: right;\n",
       "    }\n",
       "</style>\n",
       "<table border=\"1\" class=\"dataframe\">\n",
       "  <thead>\n",
       "    <tr style=\"text-align: right;\">\n",
       "      <th></th>\n",
       "      <th>id</th>\n",
       "    </tr>\n",
       "    <tr>\n",
       "      <th>property_type</th>\n",
       "      <th></th>\n",
       "    </tr>\n",
       "  </thead>\n",
       "  <tbody>\n",
       "    <tr>\n",
       "      <th>Aparthotel</th>\n",
       "      <td>12</td>\n",
       "    </tr>\n",
       "    <tr>\n",
       "      <th>Apartment</th>\n",
       "      <td>21657</td>\n",
       "    </tr>\n",
       "    <tr>\n",
       "      <th>Barn</th>\n",
       "      <td>4</td>\n",
       "    </tr>\n",
       "    <tr>\n",
       "      <th>Bed and breakfast</th>\n",
       "      <td>52</td>\n",
       "    </tr>\n",
       "    <tr>\n",
       "      <th>Boat</th>\n",
       "      <td>17</td>\n",
       "    </tr>\n",
       "    <tr>\n",
       "      <th>Boutique hotel</th>\n",
       "      <td>88</td>\n",
       "    </tr>\n",
       "    <tr>\n",
       "      <th>Bungalow</th>\n",
       "      <td>25</td>\n",
       "    </tr>\n",
       "    <tr>\n",
       "      <th>Cabin</th>\n",
       "      <td>8</td>\n",
       "    </tr>\n",
       "    <tr>\n",
       "      <th>Camper/RV</th>\n",
       "      <td>10</td>\n",
       "    </tr>\n",
       "    <tr>\n",
       "      <th>Casa particular (Cuba)</th>\n",
       "      <td>2</td>\n",
       "    </tr>\n",
       "    <tr>\n",
       "      <th>Castle</th>\n",
       "      <td>3</td>\n",
       "    </tr>\n",
       "    <tr>\n",
       "      <th>Cave</th>\n",
       "      <td>1</td>\n",
       "    </tr>\n",
       "    <tr>\n",
       "      <th>Condominium</th>\n",
       "      <td>651</td>\n",
       "    </tr>\n",
       "    <tr>\n",
       "      <th>Cottage</th>\n",
       "      <td>8</td>\n",
       "    </tr>\n",
       "    <tr>\n",
       "      <th>Earth house</th>\n",
       "      <td>1</td>\n",
       "    </tr>\n",
       "    <tr>\n",
       "      <th>Guest suite</th>\n",
       "      <td>71</td>\n",
       "    </tr>\n",
       "    <tr>\n",
       "      <th>Guesthouse</th>\n",
       "      <td>61</td>\n",
       "    </tr>\n",
       "    <tr>\n",
       "      <th>Hostel</th>\n",
       "      <td>190</td>\n",
       "    </tr>\n",
       "    <tr>\n",
       "      <th>Hotel</th>\n",
       "      <td>87</td>\n",
       "    </tr>\n",
       "    <tr>\n",
       "      <th>House</th>\n",
       "      <td>477</td>\n",
       "    </tr>\n",
       "    <tr>\n",
       "      <th>Houseboat</th>\n",
       "      <td>17</td>\n",
       "    </tr>\n",
       "    <tr>\n",
       "      <th>Lighthouse</th>\n",
       "      <td>1</td>\n",
       "    </tr>\n",
       "    <tr>\n",
       "      <th>Loft</th>\n",
       "      <td>469</td>\n",
       "    </tr>\n",
       "    <tr>\n",
       "      <th>Other</th>\n",
       "      <td>34</td>\n",
       "    </tr>\n",
       "    <tr>\n",
       "      <th>Pension (South Korea)</th>\n",
       "      <td>8</td>\n",
       "    </tr>\n",
       "    <tr>\n",
       "      <th>Resort</th>\n",
       "      <td>2</td>\n",
       "    </tr>\n",
       "    <tr>\n",
       "      <th>Serviced apartment</th>\n",
       "      <td>315</td>\n",
       "    </tr>\n",
       "    <tr>\n",
       "      <th>Tiny house</th>\n",
       "      <td>12</td>\n",
       "    </tr>\n",
       "    <tr>\n",
       "      <th>Tipi</th>\n",
       "      <td>1</td>\n",
       "    </tr>\n",
       "    <tr>\n",
       "      <th>Townhouse</th>\n",
       "      <td>117</td>\n",
       "    </tr>\n",
       "    <tr>\n",
       "      <th>Treehouse</th>\n",
       "      <td>3</td>\n",
       "    </tr>\n",
       "    <tr>\n",
       "      <th>Vacation home</th>\n",
       "      <td>1</td>\n",
       "    </tr>\n",
       "    <tr>\n",
       "      <th>Villa</th>\n",
       "      <td>17</td>\n",
       "    </tr>\n",
       "  </tbody>\n",
       "</table>\n",
       "</div>"
      ],
      "text/plain": [
       "                           id\n",
       "property_type                \n",
       "Aparthotel                 12\n",
       "Apartment               21657\n",
       "Barn                        4\n",
       "Bed and breakfast          52\n",
       "Boat                       17\n",
       "Boutique hotel             88\n",
       "Bungalow                   25\n",
       "Cabin                       8\n",
       "Camper/RV                  10\n",
       "Casa particular (Cuba)      2\n",
       "Castle                      3\n",
       "Cave                        1\n",
       "Condominium               651\n",
       "Cottage                     8\n",
       "Earth house                 1\n",
       "Guest suite                71\n",
       "Guesthouse                 61\n",
       "Hostel                    190\n",
       "Hotel                      87\n",
       "House                     477\n",
       "Houseboat                  17\n",
       "Lighthouse                  1\n",
       "Loft                      469\n",
       "Other                      34\n",
       "Pension (South Korea)       8\n",
       "Resort                      2\n",
       "Serviced apartment        315\n",
       "Tiny house                 12\n",
       "Tipi                        1\n",
       "Townhouse                 117\n",
       "Treehouse                   3\n",
       "Vacation home               1\n",
       "Villa                      17"
      ]
     },
     "execution_count": 11,
     "metadata": {},
     "output_type": "execute_result"
    }
   ],
   "source": [
    "listings.groupby(['property_type']).agg({'id':'count'})"
   ]
  },
  {
   "cell_type": "code",
   "execution_count": 12,
   "metadata": {},
   "outputs": [
    {
     "data": {
      "text/html": [
       "<div>\n",
       "<style scoped>\n",
       "    .dataframe tbody tr th:only-of-type {\n",
       "        vertical-align: middle;\n",
       "    }\n",
       "\n",
       "    .dataframe tbody tr th {\n",
       "        vertical-align: top;\n",
       "    }\n",
       "\n",
       "    .dataframe thead th {\n",
       "        text-align: right;\n",
       "    }\n",
       "</style>\n",
       "<table border=\"1\" class=\"dataframe\">\n",
       "  <thead>\n",
       "    <tr style=\"text-align: right;\">\n",
       "      <th></th>\n",
       "      <th></th>\n",
       "      <th>id</th>\n",
       "    </tr>\n",
       "    <tr>\n",
       "      <th>property_type</th>\n",
       "      <th>room_type</th>\n",
       "      <th></th>\n",
       "    </tr>\n",
       "  </thead>\n",
       "  <tbody>\n",
       "    <tr>\n",
       "      <th rowspan=\"3\" valign=\"top\">Aparthotel</th>\n",
       "      <th>Hotel room</th>\n",
       "      <td>5</td>\n",
       "    </tr>\n",
       "    <tr>\n",
       "      <th>Private room</th>\n",
       "      <td>6</td>\n",
       "    </tr>\n",
       "    <tr>\n",
       "      <th>Shared room</th>\n",
       "      <td>1</td>\n",
       "    </tr>\n",
       "    <tr>\n",
       "      <th rowspan=\"4\" valign=\"top\">Apartment</th>\n",
       "      <th>Entire home/apt</th>\n",
       "      <td>10761</td>\n",
       "    </tr>\n",
       "    <tr>\n",
       "      <th>Hotel room</th>\n",
       "      <td>1</td>\n",
       "    </tr>\n",
       "    <tr>\n",
       "      <th>Private room</th>\n",
       "      <td>10702</td>\n",
       "    </tr>\n",
       "    <tr>\n",
       "      <th>Shared room</th>\n",
       "      <td>193</td>\n",
       "    </tr>\n",
       "    <tr>\n",
       "      <th rowspan=\"2\" valign=\"top\">Barn</th>\n",
       "      <th>Entire home/apt</th>\n",
       "      <td>1</td>\n",
       "    </tr>\n",
       "    <tr>\n",
       "      <th>Private room</th>\n",
       "      <td>3</td>\n",
       "    </tr>\n",
       "    <tr>\n",
       "      <th rowspan=\"3\" valign=\"top\">Bed and breakfast</th>\n",
       "      <th>Hotel room</th>\n",
       "      <td>7</td>\n",
       "    </tr>\n",
       "    <tr>\n",
       "      <th>Private room</th>\n",
       "      <td>42</td>\n",
       "    </tr>\n",
       "    <tr>\n",
       "      <th>Shared room</th>\n",
       "      <td>3</td>\n",
       "    </tr>\n",
       "    <tr>\n",
       "      <th rowspan=\"2\" valign=\"top\">Boat</th>\n",
       "      <th>Entire home/apt</th>\n",
       "      <td>16</td>\n",
       "    </tr>\n",
       "    <tr>\n",
       "      <th>Shared room</th>\n",
       "      <td>1</td>\n",
       "    </tr>\n",
       "    <tr>\n",
       "      <th rowspan=\"2\" valign=\"top\">Boutique hotel</th>\n",
       "      <th>Hotel room</th>\n",
       "      <td>63</td>\n",
       "    </tr>\n",
       "    <tr>\n",
       "      <th>Private room</th>\n",
       "      <td>25</td>\n",
       "    </tr>\n",
       "    <tr>\n",
       "      <th rowspan=\"2\" valign=\"top\">Bungalow</th>\n",
       "      <th>Entire home/apt</th>\n",
       "      <td>21</td>\n",
       "    </tr>\n",
       "    <tr>\n",
       "      <th>Private room</th>\n",
       "      <td>4</td>\n",
       "    </tr>\n",
       "    <tr>\n",
       "      <th rowspan=\"2\" valign=\"top\">Cabin</th>\n",
       "      <th>Entire home/apt</th>\n",
       "      <td>7</td>\n",
       "    </tr>\n",
       "    <tr>\n",
       "      <th>Shared room</th>\n",
       "      <td>1</td>\n",
       "    </tr>\n",
       "    <tr>\n",
       "      <th rowspan=\"2\" valign=\"top\">Camper/RV</th>\n",
       "      <th>Entire home/apt</th>\n",
       "      <td>7</td>\n",
       "    </tr>\n",
       "    <tr>\n",
       "      <th>Private room</th>\n",
       "      <td>3</td>\n",
       "    </tr>\n",
       "    <tr>\n",
       "      <th>Casa particular (Cuba)</th>\n",
       "      <th>Private room</th>\n",
       "      <td>2</td>\n",
       "    </tr>\n",
       "    <tr>\n",
       "      <th rowspan=\"2\" valign=\"top\">Castle</th>\n",
       "      <th>Entire home/apt</th>\n",
       "      <td>1</td>\n",
       "    </tr>\n",
       "    <tr>\n",
       "      <th>Private room</th>\n",
       "      <td>2</td>\n",
       "    </tr>\n",
       "    <tr>\n",
       "      <th>Cave</th>\n",
       "      <th>Private room</th>\n",
       "      <td>1</td>\n",
       "    </tr>\n",
       "    <tr>\n",
       "      <th rowspan=\"3\" valign=\"top\">Condominium</th>\n",
       "      <th>Entire home/apt</th>\n",
       "      <td>354</td>\n",
       "    </tr>\n",
       "    <tr>\n",
       "      <th>Private room</th>\n",
       "      <td>285</td>\n",
       "    </tr>\n",
       "    <tr>\n",
       "      <th>Shared room</th>\n",
       "      <td>12</td>\n",
       "    </tr>\n",
       "    <tr>\n",
       "      <th>Cottage</th>\n",
       "      <th>Entire home/apt</th>\n",
       "      <td>7</td>\n",
       "    </tr>\n",
       "    <tr>\n",
       "      <th>...</th>\n",
       "      <th>...</th>\n",
       "      <td>...</td>\n",
       "    </tr>\n",
       "    <tr>\n",
       "      <th>Hotel</th>\n",
       "      <th>Private room</th>\n",
       "      <td>9</td>\n",
       "    </tr>\n",
       "    <tr>\n",
       "      <th rowspan=\"3\" valign=\"top\">House</th>\n",
       "      <th>Entire home/apt</th>\n",
       "      <td>221</td>\n",
       "    </tr>\n",
       "    <tr>\n",
       "      <th>Private room</th>\n",
       "      <td>253</td>\n",
       "    </tr>\n",
       "    <tr>\n",
       "      <th>Shared room</th>\n",
       "      <td>3</td>\n",
       "    </tr>\n",
       "    <tr>\n",
       "      <th rowspan=\"2\" valign=\"top\">Houseboat</th>\n",
       "      <th>Entire home/apt</th>\n",
       "      <td>16</td>\n",
       "    </tr>\n",
       "    <tr>\n",
       "      <th>Private room</th>\n",
       "      <td>1</td>\n",
       "    </tr>\n",
       "    <tr>\n",
       "      <th>Lighthouse</th>\n",
       "      <th>Private room</th>\n",
       "      <td>1</td>\n",
       "    </tr>\n",
       "    <tr>\n",
       "      <th rowspan=\"3\" valign=\"top\">Loft</th>\n",
       "      <th>Entire home/apt</th>\n",
       "      <td>379</td>\n",
       "    </tr>\n",
       "    <tr>\n",
       "      <th>Private room</th>\n",
       "      <td>87</td>\n",
       "    </tr>\n",
       "    <tr>\n",
       "      <th>Shared room</th>\n",
       "      <td>3</td>\n",
       "    </tr>\n",
       "    <tr>\n",
       "      <th rowspan=\"3\" valign=\"top\">Other</th>\n",
       "      <th>Entire home/apt</th>\n",
       "      <td>7</td>\n",
       "    </tr>\n",
       "    <tr>\n",
       "      <th>Private room</th>\n",
       "      <td>26</td>\n",
       "    </tr>\n",
       "    <tr>\n",
       "      <th>Shared room</th>\n",
       "      <td>1</td>\n",
       "    </tr>\n",
       "    <tr>\n",
       "      <th>Pension (South Korea)</th>\n",
       "      <th>Private room</th>\n",
       "      <td>8</td>\n",
       "    </tr>\n",
       "    <tr>\n",
       "      <th>Resort</th>\n",
       "      <th>Private room</th>\n",
       "      <td>2</td>\n",
       "    </tr>\n",
       "    <tr>\n",
       "      <th rowspan=\"4\" valign=\"top\">Serviced apartment</th>\n",
       "      <th>Entire home/apt</th>\n",
       "      <td>192</td>\n",
       "    </tr>\n",
       "    <tr>\n",
       "      <th>Hotel room</th>\n",
       "      <td>111</td>\n",
       "    </tr>\n",
       "    <tr>\n",
       "      <th>Private room</th>\n",
       "      <td>10</td>\n",
       "    </tr>\n",
       "    <tr>\n",
       "      <th>Shared room</th>\n",
       "      <td>2</td>\n",
       "    </tr>\n",
       "    <tr>\n",
       "      <th rowspan=\"2\" valign=\"top\">Tiny house</th>\n",
       "      <th>Entire home/apt</th>\n",
       "      <td>6</td>\n",
       "    </tr>\n",
       "    <tr>\n",
       "      <th>Private room</th>\n",
       "      <td>6</td>\n",
       "    </tr>\n",
       "    <tr>\n",
       "      <th>Tipi</th>\n",
       "      <th>Private room</th>\n",
       "      <td>1</td>\n",
       "    </tr>\n",
       "    <tr>\n",
       "      <th rowspan=\"3\" valign=\"top\">Townhouse</th>\n",
       "      <th>Entire home/apt</th>\n",
       "      <td>40</td>\n",
       "    </tr>\n",
       "    <tr>\n",
       "      <th>Private room</th>\n",
       "      <td>76</td>\n",
       "    </tr>\n",
       "    <tr>\n",
       "      <th>Shared room</th>\n",
       "      <td>1</td>\n",
       "    </tr>\n",
       "    <tr>\n",
       "      <th>Treehouse</th>\n",
       "      <th>Private room</th>\n",
       "      <td>3</td>\n",
       "    </tr>\n",
       "    <tr>\n",
       "      <th>Vacation home</th>\n",
       "      <th>Entire home/apt</th>\n",
       "      <td>1</td>\n",
       "    </tr>\n",
       "    <tr>\n",
       "      <th rowspan=\"3\" valign=\"top\">Villa</th>\n",
       "      <th>Entire home/apt</th>\n",
       "      <td>7</td>\n",
       "    </tr>\n",
       "    <tr>\n",
       "      <th>Private room</th>\n",
       "      <td>6</td>\n",
       "    </tr>\n",
       "    <tr>\n",
       "      <th>Shared room</th>\n",
       "      <td>4</td>\n",
       "    </tr>\n",
       "  </tbody>\n",
       "</table>\n",
       "<p>71 rows × 1 columns</p>\n",
       "</div>"
      ],
      "text/plain": [
       "                                           id\n",
       "property_type          room_type             \n",
       "Aparthotel             Hotel room           5\n",
       "                       Private room         6\n",
       "                       Shared room          1\n",
       "Apartment              Entire home/apt  10761\n",
       "                       Hotel room           1\n",
       "                       Private room     10702\n",
       "                       Shared room        193\n",
       "Barn                   Entire home/apt      1\n",
       "                       Private room         3\n",
       "Bed and breakfast      Hotel room           7\n",
       "                       Private room        42\n",
       "                       Shared room          3\n",
       "Boat                   Entire home/apt     16\n",
       "                       Shared room          1\n",
       "Boutique hotel         Hotel room          63\n",
       "                       Private room        25\n",
       "Bungalow               Entire home/apt     21\n",
       "                       Private room         4\n",
       "Cabin                  Entire home/apt      7\n",
       "                       Shared room          1\n",
       "Camper/RV              Entire home/apt      7\n",
       "                       Private room         3\n",
       "Casa particular (Cuba) Private room         2\n",
       "Castle                 Entire home/apt      1\n",
       "                       Private room         2\n",
       "Cave                   Private room         1\n",
       "Condominium            Entire home/apt    354\n",
       "                       Private room       285\n",
       "                       Shared room         12\n",
       "Cottage                Entire home/apt      7\n",
       "...                                       ...\n",
       "Hotel                  Private room         9\n",
       "House                  Entire home/apt    221\n",
       "                       Private room       253\n",
       "                       Shared room          3\n",
       "Houseboat              Entire home/apt     16\n",
       "                       Private room         1\n",
       "Lighthouse             Private room         1\n",
       "Loft                   Entire home/apt    379\n",
       "                       Private room        87\n",
       "                       Shared room          3\n",
       "Other                  Entire home/apt      7\n",
       "                       Private room        26\n",
       "                       Shared room          1\n",
       "Pension (South Korea)  Private room         8\n",
       "Resort                 Private room         2\n",
       "Serviced apartment     Entire home/apt    192\n",
       "                       Hotel room         111\n",
       "                       Private room        10\n",
       "                       Shared room          2\n",
       "Tiny house             Entire home/apt      6\n",
       "                       Private room         6\n",
       "Tipi                   Private room         1\n",
       "Townhouse              Entire home/apt     40\n",
       "                       Private room        76\n",
       "                       Shared room          1\n",
       "Treehouse              Private room         3\n",
       "Vacation home          Entire home/apt      1\n",
       "Villa                  Entire home/apt      7\n",
       "                       Private room         6\n",
       "                       Shared room          4\n",
       "\n",
       "[71 rows x 1 columns]"
      ]
     },
     "execution_count": 12,
     "metadata": {},
     "output_type": "execute_result"
    }
   ],
   "source": [
    "listings.groupby(['property_type', 'room_type']).agg({'id':'count'})"
   ]
  },
  {
   "cell_type": "markdown",
   "metadata": {},
   "source": [
    "The dataset contains 106 columns and 24,422 rows of data. It looks as if this provides details for unique listings per row.\n",
    "\n",
    "#### Data Issues in LISTINGS Identified \n",
    "\n",
    "After reviewing the listing data I identified the most useful features for me to answer related questions. The features are the following:\n",
    "\n",
    "- **id**: Listing id, all unique, helpful for joining. <span style=\"color:green\">Convert to str.</span>\n",
    "- **zipcode**: Zipcode of listing. <span style=\"color:green\">Attempt to use `street` to extract missing values.</span>\n",
    "- **review_scores_rating**: Some central measure of all ratings from 0 to 100. <span style=\"color:orange\">May dummy missing.</span>\n",
    "- **reviews_per_month**: As described. Same amount missing as first/last review. <span style=\"color:orange\">May dummy missing.</span>\n",
    "- **price**: Price of listing (at time of scrape?) <span style=\"color:green\">Maybe drop because of calendar price.</span>\n",
    "- **accommodates**: Max number of ppl able to be accommodated.\n",
    "- **latitude, longitude**: Coordinates for listing\n",
    "- **property_type**: Selection of property types. <span style=\"color:orange\">Convert to dummies.</span>\n",
    "- **room_type**: Three levels, entire, private, shared. <span style=\"color:orange\">Convert to dummies.</span>\n",
    "- **neighbourhood_cleansed**: Provides neighbourhood details for the listing. <span style=\"color:orange\">Maybe convert to dummy.</span>\n",
    "- **neighbourhood_group_cleansed**: Provides wider grouping of listing location. <span style=\"color:orange\">Maybe convert to dummy.</span>\n",
    "\n",
    "Follow empty or unnecessary columns can dropped:\n",
    "\n",
    "- **listing_url**: The url for the listing of the form `https://www.airbnb.com/rooms/id`. \n",
    "- **name**: Name selected by host for listing. \n",
    "- **neighborhood_overview**: Neighborhood description that looks to be provided by the host. Not always provided. \n",
    "- **notes**: Additional information provided by the host. The information provided in this column can be quite variable. \n",
    "- **transit**: Description of availability of public transport by host.\n",
    "- **picture_url**: Always has a picture url. \n",
    "- **host_id**: ID for the host, there are definitely hosts with multiple listings. \n",
    "- **host_url**: url for host, same number as host_id. \n",
    "- **host_name**: Seems just first name is typically used. \n",
    "- **host_since**: Date from when the host joined. \n",
    "- **host_location**: Info provided by hosts. Typically of city, state, country format, but not consistent. \n",
    "- **host_about**: Description provided by host. My contain location and employment/hobbies info. \n",
    "- **host_response_time**: Ordinal categorization of response time with four levels. \n",
    "- **host_response_rate**: Percentage of whether they respond. \n",
    "- **host_acceptance_rate**: Almost empty\n",
    "- **host_is_superhost**: Binary with 't' and 'f'. \n",
    "- **host_neighbourhood**: Seems to represent host location but distinct values. \n",
    "- **host_listings_count**: Seems to be number of listings per host. \n",
    "- **host_verifications**: List of methods that host has been verified. \n",
    "- **host_has_profile_pic**: Binary with 't' and 'f'. \n",
    "- **host_identity_verified**: Binary with 't' and 'f'. \n",
    "- **street**: Provides street, city, state abbr, zip code and country info for listing. \n",
    "- **smart_location**: All equivalent of Berlin?. \n",
    "- **is_location_exact**: Binary with 't' and 'f'. \n",
    "- **bed_type**: Five levels of bed type. \n",
    "- **amenities**: List of available amenities. \n",
    "- **security_price**: Value of security deposit, if required.\n",
    "- **cleaning_fee**: Value of cleaning fee, if required. \n",
    "- **guests_included**: Create \"max accommodation included in price\" \n",
    "- **extra_people**: Cost per extra person. \n",
    "- **minimum/maximum_nights**: \n",
    "- **calendar_update**: String of last time updated \n",
    "- **availability_30/60/90/365**: Number of days listed as available in the interval (assuming from scrape date). \n",
    "- **number_of_reviews**: Number of reviews received by host.\n",
    "- **first/last_review**: Date of first/last review, not sure why some missing. \n",
    "- **review_scores_accuracy/cleanliness/checkin/location/value**: Some central measure of the rating from 1 (low) to 10 (high) on the characteristic described. \n",
    "- **instant_bookable**: Binary with 't' and 'f'. \n",
    "- **cancellation_policy**: Three levels. \n",
    "- **require_guest_profile_picture/phone_verification**: Binary with 't' and 'f'. \n",
    "- **calculated_host_listings_count**: \n",
    "- **scrape_id**: The id of the data scrape by airbnb. \n",
    "- **last_scraped**: The date of the scrape. \n",
    "- **xl_picture_url**: Larger size of above. Most empty. \n",
    "- **summary, space, description**: Text descriptions of the property provided by host. It appears that the information found in each of these can overlap. \n",
    "- **experiences_offered**: All values are `none`. \n",
    "- **thumbnail_url**: Link of the thumbnail image used for the listing. 100% missing.\n",
    "- **medium_url**: Larger size of above. Same missing 100%. \n",
    "- **host_thumbnail_url**: Url of host pic thumbnail.\n",
    "- **host_picture_url**: Large version of above. \n",
    "- **host_total_listings_count**: Seems no different than above. \n",
    "- **neighbourhood**: in this case not necassery \n",
    "- **city**: All values are the equivalent of Berlin\n",
    "- **state**: All values are the equivalent of Berlin \n",
    "- **market**: not usefull \n",
    "- **has_availability**: All have availabilities. \n",
    "- **calendar_last_scraped**: not usefull \n",
    "- **country_code**: in this case not usefull - its only Berlin\n",
    "- **country**: in this case not usefull - its only Berlin\n",
    "- **bathrooms**: Number of bathrooms in listing. \n",
    "- **bedrooms**: Number of bedrooms in listing. \n",
    "- **beds**: Number of beds in listing. \n",
    "- **square_feet**: Size of listing. 100% missing value.\n",
    "- **weekly_price**: Price per week (if available). 100% missing value\n",
    "- **monthly_price**: Price per month (if available). 100% missing value\n",
    "- **requires_license**: not necassery\n",
    "- **license**: 100% missing value\n",
    "- **jurisdiction_names**: 100% missing value"
   ]
  },
  {
   "cell_type": "markdown",
   "metadata": {},
   "source": [
    "<a id='reviews'></a>\n",
    "## 5.3. Reviews"
   ]
  },
  {
   "cell_type": "code",
   "execution_count": 13,
   "metadata": {},
   "outputs": [
    {
     "name": "stdout",
     "output_type": "stream",
     "text": [
      "<class 'pandas.core.frame.DataFrame'>\n",
      "RangeIndex: 501002 entries, 0 to 501001\n",
      "Data columns (total 6 columns):\n",
      "listing_id       501002 non-null int64\n",
      "id               501002 non-null int64\n",
      "date             501002 non-null object\n",
      "reviewer_id      501002 non-null int64\n",
      "reviewer_name    501002 non-null object\n",
      "comments         500760 non-null object\n",
      "dtypes: int64(3), object(3)\n",
      "memory usage: 22.9+ MB\n",
      "\n",
      "\n",
      "comments    0.048303\n",
      "dtype: float64\n",
      "\n",
      "\n",
      "no missing values\n",
      "{'listing_id', 'date', 'reviewer_id', 'id', 'reviewer_name'}\n",
      "\n",
      "\n",
      "most missing values\n",
      "set()\n"
     ]
    }
   ],
   "source": [
    "summary(reviews)"
   ]
  },
  {
   "cell_type": "code",
   "execution_count": 14,
   "metadata": {},
   "outputs": [
    {
     "data": {
      "text/html": [
       "<div>\n",
       "<style scoped>\n",
       "    .dataframe tbody tr th:only-of-type {\n",
       "        vertical-align: middle;\n",
       "    }\n",
       "\n",
       "    .dataframe tbody tr th {\n",
       "        vertical-align: top;\n",
       "    }\n",
       "\n",
       "    .dataframe thead th {\n",
       "        text-align: right;\n",
       "    }\n",
       "</style>\n",
       "<table border=\"1\" class=\"dataframe\">\n",
       "  <thead>\n",
       "    <tr style=\"text-align: right;\">\n",
       "      <th></th>\n",
       "      <th>listing_id</th>\n",
       "      <th>id</th>\n",
       "      <th>date</th>\n",
       "      <th>reviewer_id</th>\n",
       "      <th>reviewer_name</th>\n",
       "      <th>comments</th>\n",
       "    </tr>\n",
       "  </thead>\n",
       "  <tbody>\n",
       "    <tr>\n",
       "      <th>0</th>\n",
       "      <td>1944</td>\n",
       "      <td>7126992</td>\n",
       "      <td>2013-09-07</td>\n",
       "      <td>8207524</td>\n",
       "      <td>Mirko</td>\n",
       "      <td>I want to thank Laura&amp;Emiliano for their hospi...</td>\n",
       "    </tr>\n",
       "    <tr>\n",
       "      <th>1</th>\n",
       "      <td>1944</td>\n",
       "      <td>7428447</td>\n",
       "      <td>2013-09-19</td>\n",
       "      <td>3021574</td>\n",
       "      <td>Rafiee</td>\n",
       "      <td>Very convenient  and very quiet. You will stay...</td>\n",
       "    </tr>\n",
       "    <tr>\n",
       "      <th>2</th>\n",
       "      <td>1944</td>\n",
       "      <td>8455250</td>\n",
       "      <td>2013-10-31</td>\n",
       "      <td>5875429</td>\n",
       "      <td>Grzegorz</td>\n",
       "      <td>I've spent 2 nights at place of Laura and Emil...</td>\n",
       "    </tr>\n",
       "    <tr>\n",
       "      <th>3</th>\n",
       "      <td>1944</td>\n",
       "      <td>11105498</td>\n",
       "      <td>2014-03-20</td>\n",
       "      <td>5361252</td>\n",
       "      <td>Ngọc Thúy</td>\n",
       "      <td>The reservation was canceled 2 days before arr...</td>\n",
       "    </tr>\n",
       "    <tr>\n",
       "      <th>4</th>\n",
       "      <td>1944</td>\n",
       "      <td>15920963</td>\n",
       "      <td>2014-07-18</td>\n",
       "      <td>6659444</td>\n",
       "      <td>Nathalie</td>\n",
       "      <td>Laura est très sympathique et l'appartement fa...</td>\n",
       "    </tr>\n",
       "  </tbody>\n",
       "</table>\n",
       "</div>"
      ],
      "text/plain": [
       "   listing_id        id        date  reviewer_id reviewer_name  \\\n",
       "0        1944   7126992  2013-09-07      8207524         Mirko   \n",
       "1        1944   7428447  2013-09-19      3021574        Rafiee   \n",
       "2        1944   8455250  2013-10-31      5875429      Grzegorz   \n",
       "3        1944  11105498  2014-03-20      5361252     Ngọc Thúy   \n",
       "4        1944  15920963  2014-07-18      6659444      Nathalie   \n",
       "\n",
       "                                            comments  \n",
       "0  I want to thank Laura&Emiliano for their hospi...  \n",
       "1  Very convenient  and very quiet. You will stay...  \n",
       "2  I've spent 2 nights at place of Laura and Emil...  \n",
       "3  The reservation was canceled 2 days before arr...  \n",
       "4  Laura est très sympathique et l'appartement fa...  "
      ]
     },
     "execution_count": 14,
     "metadata": {},
     "output_type": "execute_result"
    }
   ],
   "source": [
    "reviews.head()"
   ]
  },
  {
   "cell_type": "markdown",
   "metadata": {},
   "source": [
    "The dataset contains six columns and almost 500K rows of data.\n",
    "\n",
    "#### Data Issues in REVIEWS Identified\n",
    "- **listing_id, id, reviewer_id**: Data identifier \n",
    "- **date**: Date\n",
    "- **reviewer_name**: Name \n",
    "- **comments**: free comments\n",
    "\n",
    "The only feature with missing values is `comments`. It appears a small amount of people give some kind of review without leaving comments.\n",
    "\n",
    "My first analysis shows me that this data is not really useful. I will not investigate further."
   ]
  },
  {
   "cell_type": "markdown",
   "metadata": {},
   "source": [
    "<a id='listsum'></a>\n",
    "## 5.4. Listungs Summary"
   ]
  },
  {
   "cell_type": "code",
   "execution_count": 15,
   "metadata": {},
   "outputs": [
    {
     "name": "stdout",
     "output_type": "stream",
     "text": [
      "<class 'pandas.core.frame.DataFrame'>\n",
      "RangeIndex: 24422 entries, 0 to 24421\n",
      "Data columns (total 16 columns):\n",
      "id                                24422 non-null int64\n",
      "name                              24371 non-null object\n",
      "host_id                           24422 non-null int64\n",
      "host_name                         24390 non-null object\n",
      "neighbourhood_group               24422 non-null object\n",
      "neighbourhood                     24422 non-null object\n",
      "latitude                          24422 non-null float64\n",
      "longitude                         24422 non-null float64\n",
      "room_type                         24422 non-null object\n",
      "price                             24422 non-null int64\n",
      "minimum_nights                    24422 non-null int64\n",
      "number_of_reviews                 24422 non-null int64\n",
      "last_review                       20286 non-null object\n",
      "reviews_per_month                 20286 non-null float64\n",
      "calculated_host_listings_count    24422 non-null int64\n",
      "availability_365                  24422 non-null int64\n",
      "dtypes: float64(3), int64(7), object(6)\n",
      "memory usage: 3.0+ MB\n",
      "\n",
      "\n",
      "name                  0.208828\n",
      "host_name             0.131029\n",
      "last_review          16.935550\n",
      "reviews_per_month    16.935550\n",
      "dtype: float64\n",
      "\n",
      "\n",
      "no missing values\n",
      "{'calculated_host_listings_count', 'neighbourhood_group', 'neighbourhood', 'availability_365', 'id', 'longitude', 'room_type', 'latitude', 'price', 'minimum_nights', 'host_id', 'number_of_reviews'}\n",
      "\n",
      "\n",
      "most missing values\n",
      "set()\n"
     ]
    }
   ],
   "source": [
    "summary(listsum)"
   ]
  },
  {
   "cell_type": "markdown",
   "metadata": {},
   "source": [
    "The dataset contains 16 columns and almost 24.5K rows of data.\n",
    "\n",
    "#### Data Issues in LISTINGS_SUMMARY Identified\n",
    "\n",
    "- **id**: Data identifier. Simular to listing_id <span style=\"color:green\">convert to `str`</span>\n",
    "- **name**: name of reviewer <span style=\"color:green\">can be dropped`</span>\n",
    "- **host_id**:  <span style=\"color:green\">can be dropped`</span>\n",
    "- **host_name**: name of host <span style=\"color:green\">can be dropped`</span>\n",
    "- **neighbourhood_group**: name of district <span style=\"color:green\">can be dropped`</span>\n",
    "- **neighbourhood**: <span style=\"color:green\">can be dropped`</span>\n",
    "- **latitude**: GeoInformation\n",
    "- **longitude**: GeoInformation\n",
    "- **room_type**: <span style=\"color:green\">can be dropped`</span>\n",
    "- **price**: Price per night <span style=\"color:green\">no convertion to float/int</span>\n",
    "- **minimum_nights**: In this case a summary of nights <span style=\"color:green\">no convertion to float/int</span>\n",
    "- **number_of_reviews**: a summary of reviews <span style=\"color:green\">no convertion to float/int</span>\n",
    "- **last_review**: <span style=\"color:green\">can be dropped`</span>\n",
    "- **reviews_per_month**: <span style=\"color:green\">can be dropped`</span>\n",
    "- **calculated_host_listings_count**: <span style=\"color:green\">can be dropped`</span>\n",
    "- **availability_365**: <span style=\"color:green\">can be dropped`</span>\n",
    "\n",
    "In my further analysis of the reviews, the listing_summary is the most helpful. Here are the  important information in the columns price, minimum_nights and number_of_reviews. This information can be deduced to the revenue."
   ]
  },
  {
   "cell_type": "markdown",
   "metadata": {},
   "source": [
    "<a id='nbhoods'></a>\n",
    "## 5.5 Neighborhouds "
   ]
  },
  {
   "cell_type": "code",
   "execution_count": 16,
   "metadata": {},
   "outputs": [
    {
     "name": "stdout",
     "output_type": "stream",
     "text": [
      "<class 'pandas.core.frame.DataFrame'>\n",
      "RangeIndex: 139 entries, 0 to 138\n",
      "Data columns (total 2 columns):\n",
      "neighbourhood_group    138 non-null object\n",
      "neighbourhood          138 non-null object\n",
      "dtypes: object(2)\n",
      "memory usage: 2.2+ KB\n",
      "\n",
      "\n",
      "neighbourhood_group    0.719424\n",
      "neighbourhood          0.719424\n",
      "dtype: float64\n",
      "\n",
      "\n",
      "no missing values\n",
      "set()\n",
      "\n",
      "\n",
      "most missing values\n",
      "set()\n"
     ]
    }
   ],
   "source": [
    "summary(nbhoods)"
   ]
  },
  {
   "cell_type": "code",
   "execution_count": 17,
   "metadata": {},
   "outputs": [
    {
     "data": {
      "text/html": [
       "<div>\n",
       "<style scoped>\n",
       "    .dataframe tbody tr th:only-of-type {\n",
       "        vertical-align: middle;\n",
       "    }\n",
       "\n",
       "    .dataframe tbody tr th {\n",
       "        vertical-align: top;\n",
       "    }\n",
       "\n",
       "    .dataframe thead th {\n",
       "        text-align: right;\n",
       "    }\n",
       "</style>\n",
       "<table border=\"1\" class=\"dataframe\">\n",
       "  <thead>\n",
       "    <tr style=\"text-align: right;\">\n",
       "      <th></th>\n",
       "      <th>neighbourhood_group</th>\n",
       "      <th>neighbourhood</th>\n",
       "    </tr>\n",
       "  </thead>\n",
       "  <tbody>\n",
       "    <tr>\n",
       "      <th>0</th>\n",
       "      <td>Charlottenburg-Wilm.</td>\n",
       "      <td>Barstraße</td>\n",
       "    </tr>\n",
       "    <tr>\n",
       "      <th>1</th>\n",
       "      <td>Charlottenburg-Wilm.</td>\n",
       "      <td>Charlottenburg Nord</td>\n",
       "    </tr>\n",
       "    <tr>\n",
       "      <th>2</th>\n",
       "      <td>Charlottenburg-Wilm.</td>\n",
       "      <td>Düsseldorfer Straße</td>\n",
       "    </tr>\n",
       "    <tr>\n",
       "      <th>3</th>\n",
       "      <td>Charlottenburg-Wilm.</td>\n",
       "      <td>Forst Grunewald</td>\n",
       "    </tr>\n",
       "    <tr>\n",
       "      <th>4</th>\n",
       "      <td>Charlottenburg-Wilm.</td>\n",
       "      <td>Grunewald</td>\n",
       "    </tr>\n",
       "  </tbody>\n",
       "</table>\n",
       "</div>"
      ],
      "text/plain": [
       "    neighbourhood_group        neighbourhood\n",
       "0  Charlottenburg-Wilm.            Barstraße\n",
       "1  Charlottenburg-Wilm.  Charlottenburg Nord\n",
       "2  Charlottenburg-Wilm.  Düsseldorfer Straße\n",
       "3  Charlottenburg-Wilm.      Forst Grunewald\n",
       "4  Charlottenburg-Wilm.            Grunewald"
      ]
     },
     "execution_count": 17,
     "metadata": {},
     "output_type": "execute_result"
    }
   ],
   "source": [
    "nbhoods.head()"
   ]
  },
  {
   "cell_type": "markdown",
   "metadata": {},
   "source": [
    "The dataset contains 2 columns and almost 138 rows of data.\n",
    "\n",
    "#### Data Issues Identified\n",
    "- **neighbourhood**: Information about street in Berlin \n",
    "- **neighbourhood_group**: District\n",
    "\n",
    "The data neighborhood in connection with the GeoData gives a visual impression of where the best district could be. "
   ]
  },
  {
   "cell_type": "markdown",
   "metadata": {},
   "source": [
    "<a id='nbhgeos'></a>\n",
    "## 5.6 Neighborhouds GeoInformation"
   ]
  },
  {
   "cell_type": "code",
   "execution_count": 18,
   "metadata": {},
   "outputs": [
    {
     "data": {
      "text/plain": [
       "geopandas.geodataframe.GeoDataFrame"
      ]
     },
     "execution_count": 18,
     "metadata": {},
     "output_type": "execute_result"
    }
   ],
   "source": [
    "type(nbhgeos)"
   ]
  },
  {
   "cell_type": "code",
   "execution_count": 19,
   "metadata": {},
   "outputs": [
    {
     "data": {
      "text/plain": [
       "139"
      ]
     },
     "execution_count": 19,
     "metadata": {},
     "output_type": "execute_result"
    }
   ],
   "source": [
    "len(nbhoods.neighbourhood.unique())"
   ]
  },
  {
   "cell_type": "code",
   "execution_count": 20,
   "metadata": {},
   "outputs": [
    {
     "data": {
      "text/plain": [
       "Treptow - Köpenick          20\n",
       "Charlottenburg-Wilm.        17\n",
       "Pankow                      16\n",
       "Lichtenberg                 13\n",
       "Reinickendorf               11\n",
       "Mitte                       10\n",
       "Neukölln                    10\n",
       "Spandau                      9\n",
       "Marzahn - Hellersdorf        9\n",
       "Friedrichshain-Kreuzberg     8\n",
       "Steglitz - Zehlendorf        8\n",
       "Tempelhof - Schöneberg       7\n",
       "Name: neighbourhood_group, dtype: int64"
      ]
     },
     "execution_count": 20,
     "metadata": {},
     "output_type": "execute_result"
    }
   ],
   "source": [
    "nbhoods.neighbourhood_group.value_counts()"
   ]
  },
  {
   "cell_type": "code",
   "execution_count": 21,
   "metadata": {},
   "outputs": [
    {
     "data": {
      "text/html": [
       "<div>\n",
       "<style scoped>\n",
       "    .dataframe tbody tr th:only-of-type {\n",
       "        vertical-align: middle;\n",
       "    }\n",
       "\n",
       "    .dataframe tbody tr th {\n",
       "        vertical-align: top;\n",
       "    }\n",
       "\n",
       "    .dataframe thead th {\n",
       "        text-align: right;\n",
       "    }\n",
       "</style>\n",
       "<table border=\"1\" class=\"dataframe\">\n",
       "  <thead>\n",
       "    <tr style=\"text-align: right;\">\n",
       "      <th></th>\n",
       "      <th>neighbourhood</th>\n",
       "      <th>neighbourhood_group</th>\n",
       "      <th>geometry</th>\n",
       "    </tr>\n",
       "  </thead>\n",
       "  <tbody>\n",
       "    <tr>\n",
       "      <th>0</th>\n",
       "      <td>Blankenfelde/Niederschönhausen</td>\n",
       "      <td>Pankow</td>\n",
       "      <td>MULTIPOLYGON (((13.41191 52.61487, 13.41183 52...</td>\n",
       "    </tr>\n",
       "    <tr>\n",
       "      <th>1</th>\n",
       "      <td>Helmholtzplatz</td>\n",
       "      <td>Pankow</td>\n",
       "      <td>MULTIPOLYGON (((13.41405 52.54929, 13.41422 52...</td>\n",
       "    </tr>\n",
       "    <tr>\n",
       "      <th>2</th>\n",
       "      <td>Wiesbadener Straße</td>\n",
       "      <td>Charlottenburg-Wilm.</td>\n",
       "      <td>MULTIPOLYGON (((13.30748 52.46788, 13.30743 52...</td>\n",
       "    </tr>\n",
       "    <tr>\n",
       "      <th>3</th>\n",
       "      <td>Schmöckwitz/Karolinenhof/Rauchfangswerder</td>\n",
       "      <td>Treptow - Köpenick</td>\n",
       "      <td>MULTIPOLYGON (((13.70973 52.39630, 13.70926 52...</td>\n",
       "    </tr>\n",
       "    <tr>\n",
       "      <th>4</th>\n",
       "      <td>Müggelheim</td>\n",
       "      <td>Treptow - Köpenick</td>\n",
       "      <td>MULTIPOLYGON (((13.73762 52.40850, 13.73773 52...</td>\n",
       "    </tr>\n",
       "  </tbody>\n",
       "</table>\n",
       "</div>"
      ],
      "text/plain": [
       "                               neighbourhood   neighbourhood_group  \\\n",
       "0             Blankenfelde/Niederschönhausen                Pankow   \n",
       "1                             Helmholtzplatz                Pankow   \n",
       "2                         Wiesbadener Straße  Charlottenburg-Wilm.   \n",
       "3  Schmöckwitz/Karolinenhof/Rauchfangswerder    Treptow - Köpenick   \n",
       "4                                 Müggelheim    Treptow - Köpenick   \n",
       "\n",
       "                                            geometry  \n",
       "0  MULTIPOLYGON (((13.41191 52.61487, 13.41183 52...  \n",
       "1  MULTIPOLYGON (((13.41405 52.54929, 13.41422 52...  \n",
       "2  MULTIPOLYGON (((13.30748 52.46788, 13.30743 52...  \n",
       "3  MULTIPOLYGON (((13.70973 52.39630, 13.70926 52...  \n",
       "4  MULTIPOLYGON (((13.73762 52.40850, 13.73773 52...  "
      ]
     },
     "execution_count": 21,
     "metadata": {},
     "output_type": "execute_result"
    }
   ],
   "source": [
    "nbhgeos.head()"
   ]
  },
  {
   "cell_type": "code",
   "execution_count": 22,
   "metadata": {},
   "outputs": [
    {
     "data": {
      "text/plain": [
       "<Figure size 432x288 with 0 Axes>"
      ]
     },
     "metadata": {},
     "output_type": "display_data"
    },
    {
     "data": {
      "image/png": "[encoded data removed]",
      "text/plain": [
       "<Figure size 1440x720 with 1 Axes>"
      ]
     },
     "metadata": {
      "needs_background": "light"
     },
     "output_type": "display_data"
    }
   ],
   "source": [
    "# Show me all about Berlin\n",
    "plt.figure()\n",
    "fig, ax = plt.subplots(figsize=(20,10))\n",
    "nbhgeos.plot(ax=ax, figsize=(20,10))\n",
    "ax.set_axis_off()\n",
    "plt.show()\n",
    "fig.savefig(\"./figure/berlin_geomap_distrigt_all.jpg\", bbox_inches='tight')"
   ]
  },
  {
   "cell_type": "code",
   "execution_count": 23,
   "metadata": {},
   "outputs": [
    {
     "data": {
      "image/png": "[encoded data removed]",
      "text/plain": [
       "<Figure size 1440x720 with 1 Axes>"
      ]
     },
     "metadata": {
      "needs_background": "light"
     },
     "output_type": "display_data"
    }
   ],
   "source": [
    "# Show me the districts in Berlin\n",
    "# Hint: The districts are saved as MULTIPOLYGON. So I dissolved this ..\n",
    "districts = nbhgeos.dissolve(by='neighbourhood_group')\n",
    "\n",
    "fig, ax = plt.subplots(figsize=(20,10))\n",
    "districts.plot(ax=ax, figsize=(20,10))\n",
    "ax.set_axis_off()\n",
    "plt.show()\n",
    "fig.savefig(\"./figure/berlin_geomap_distrigtgroup.jpg\", bbox_inches='tight')"
   ]
  },
  {
   "cell_type": "code",
   "execution_count": 24,
   "metadata": {},
   "outputs": [
    {
     "data": {
      "image/png": "[encoded data removed]",
      "text/plain": [
       "<Figure size 1440x720 with 1 Axes>"
      ]
     },
     "metadata": {
      "needs_background": "light"
     },
     "output_type": "display_data"
    }
   ],
   "source": [
    "# Show me the famous district Mitte \n",
    "fig, ax = plt.subplots(figsize=(20,10))\n",
    "nbhgeos[nbhgeos.neighbourhood_group == \"Mitte\"].plot(ax=ax, figsize=(20,10), column='neighbourhood')\n",
    "ax.set_axis_off()\n",
    "plt.show()\n",
    "fig.savefig(\"./figure/berlin_geomap_mitte.jpg\", bbox_inches='tight')"
   ]
  },
  {
   "cell_type": "markdown",
   "metadata": {},
   "source": [
    "The dataset contains 12 districts and almost 136 neighbourhood.\n",
    "\n",
    "#### Data Issues Identified\n",
    "- **none**: I need all data\n",
    "\n",
    "The geo-information is needed for later visualization of the best districts"
   ]
  },
  {
   "cell_type": "markdown",
   "metadata": {},
   "source": [
    "<a id='DataPrep'></a>\n",
    "## 6 Data Preparation\n"
   ]
  },
  {
   "cell_type": "markdown",
   "metadata": {},
   "source": [
    "<a id='clean'></a>\n",
    "## 6.1 Cleaning\n"
   ]
  },
  {
   "cell_type": "markdown",
   "metadata": {},
   "source": [
    "let's focus on the main columns and reject all others."
   ]
  },
  {
   "cell_type": "code",
   "execution_count": 25,
   "metadata": {},
   "outputs": [],
   "source": [
    "# Columns to keep in listing \n",
    "columns_listings = ['id', \n",
    "                   'price', \n",
    "                   'accommodates', \n",
    "                   'property_type', \n",
    "                   'room_type', \n",
    "                   'neighbourhood_cleansed', \n",
    "                   'neighbourhood_group_cleansed', \n",
    "                   'review_scores_rating', \n",
    "                   'zipcode', \n",
    "                   'latitude', \n",
    "                   'longitude']\n",
    "\n",
    "# Colums to keep in calendar\n",
    "columns_calendar = ['listing_id',\n",
    "                    'date',\n",
    "                    'available',\n",
    "                    'adjusted_price',\n",
    "                    'minimum_nights',\n",
    "                    'maximum_nights']\n",
    "\n",
    "# Columns to keep in listing Summary\n",
    "columns_listsum = ['id',\n",
    "                  'host_id',\n",
    "                  'minimum_nights',\n",
    "                  'number_of_reviews']"
   ]
  },
  {
   "cell_type": "code",
   "execution_count": 26,
   "metadata": {},
   "outputs": [
    {
     "data": {
      "text/plain": [
       "(24422, 106)"
      ]
     },
     "execution_count": 26,
     "metadata": {},
     "output_type": "execute_result"
    }
   ],
   "source": [
    "listings.shape"
   ]
  },
  {
   "cell_type": "code",
   "execution_count": 27,
   "metadata": {},
   "outputs": [],
   "source": [
    "# drop all other columns from listings, calendar and listins_summary dataframe and keep only the necassery information\n",
    "clean_listings = listings[columns_listings].copy()\n",
    "clean_calendar = calendar[columns_calendar].copy()\n",
    "clean_listsum = listsum[columns_listsum].copy()"
   ]
  },
  {
   "cell_type": "code",
   "execution_count": 28,
   "metadata": {},
   "outputs": [
    {
     "data": {
      "text/plain": [
       "(24422, 11)"
      ]
     },
     "execution_count": 28,
     "metadata": {},
     "output_type": "execute_result"
    }
   ],
   "source": [
    "clean_listings.shape"
   ]
  },
  {
   "cell_type": "code",
   "execution_count": 29,
   "metadata": {},
   "outputs": [
    {
     "data": {
      "text/plain": [
       "(8914030, 6)"
      ]
     },
     "execution_count": 29,
     "metadata": {},
     "output_type": "execute_result"
    }
   ],
   "source": [
    "clean_calendar.shape"
   ]
  },
  {
   "cell_type": "code",
   "execution_count": 30,
   "metadata": {},
   "outputs": [
    {
     "data": {
      "text/plain": [
       "(24422, 4)"
      ]
     },
     "execution_count": 30,
     "metadata": {},
     "output_type": "execute_result"
    }
   ],
   "source": [
    "clean_listsum.shape"
   ]
  },
  {
   "cell_type": "markdown",
   "metadata": {},
   "source": [
    "Next, I clean up the listings, calendar listings_summary data refining the columns "
   ]
  },
  {
   "cell_type": "code",
   "execution_count": 31,
   "metadata": {},
   "outputs": [],
   "source": [
    "# lets clean data\n",
    "\n",
    "def clean_df(listings_df):\n",
    "    \"\"\"\n",
    "    Return cleaned datasets with all string variables for price, weekly_price, monthly_price,\n",
    "    security_deposit, cleaning_fee, extra_people replaced with float variables without the dollar\n",
    "    sign $. Also replace all string variables for host_response_rate, host_acceptance_rate with\n",
    "    float variables without the percentage sign %. Lastly convert all dates in listings and calendar\n",
    "    dataframe with datetime.\n",
    "    \n",
    "    INPUTS:\n",
    "        listings_df - dataframe for listings\n",
    "    OUTPUTS:\n",
    "        listings_df - cleaned dataframe for listings. \n",
    "    \"\"\"\n",
    "    # Convert string of prices to floats\n",
    "    listings_df.price=listings_df.price.str.replace('$','')\n",
    "    listings_df.price=listings_df.price.str.replace(',','').astype(float)\n",
    "    \n",
    "    return listings_df"
   ]
  },
  {
   "cell_type": "code",
   "execution_count": null,
   "metadata": {},
   "outputs": [],
   "source": [
    "# clean the dataframes without listings_summary \n",
    "clean_listings = clean_df(clean_listings)"
   ]
  },
  {
   "cell_type": "code",
   "execution_count": null,
   "metadata": {},
   "outputs": [],
   "source": [
    "# reduce the calendar to the key figure available and occupancy_rate\n",
    "def clean_calendar_data(df):\n",
    "    '''\n",
    "    INPUT\n",
    "    df - pandas dataframe containing info from the calendar.csv file\n",
    "\n",
    "    OUTPUT\n",
    "    df - aggregrated dataframe containing occupancy rate per day\n",
    "    '''\n",
    "    df_calendar = df.copy()\n",
    "    # Convert string of prices to floats\n",
    "    df_calendar.adjusted_price=df_calendar.adjusted_price.str.replace('$','')\n",
    "    df_calendar.adjusted_price=df_calendar.adjusted_price.str.replace(',','').astype(float)\n",
    "\n",
    "    # Convert date string to datetime\n",
    "    df_calendar['date'] = pd.to_datetime(df_calendar['date'], format='%Y-%m-%d')\n",
    "\n",
    "    # Make sure we only take the rows where the appartment was booked, then group by on date and count how many houses were booked\n",
    "    data_calendar = df_calendar[df_calendar['available'] == 'f'].groupby('date').count()['listing_id'].reset_index()\n",
    "    # Then divide that number by the total number of houses in the dataset\n",
    "    data_calendar['listing_id'] = data_calendar['listing_id'] / df_calendar.listing_id.nunique()\n",
    "    # Rename the columns\n",
    "    data_calendar.columns = ['date', 'occupancy_rate']\n",
    "    # Cast the datatype of the date column so that we can use plot_date.\n",
    "    data_calendar['date'] = pd.to_datetime(data_calendar['date'])\n",
    "\n",
    "    return data_calendar"
   ]
  },
  {
   "cell_type": "code",
   "execution_count": null,
   "metadata": {},
   "outputs": [],
   "source": [
    "# build the calendar range\n",
    "clean_calendar = clean_calendar_data(clean_calendar)"
   ]
  },
  {
   "cell_type": "markdown",
   "metadata": {},
   "source": [
    "Second, for validation purpose, lets first check the float_missing_cols. If the missing value imputation is successful, then we should expect to see these NaN values replaced by their median values.\n"
   ]
  },
  {
   "cell_type": "code",
   "execution_count": null,
   "metadata": {},
   "outputs": [],
   "source": [
    "def replace_missing_values(cols, df):\n",
    "    '''\n",
    "        Takes a list of columns and a dataframe and imputes based on\n",
    "        the column type. If it is object type, then most_frequent value\n",
    "        is used for imputation. If it is a float/int type, then the median\n",
    "        value is used for imputation.\n",
    "        arguments:\n",
    "            cols: list of columns\n",
    "            df : dataframe containing these columns.\n",
    "        returns:\n",
    "            df: the imputed dataframe\n",
    "    '''\n",
    "    for col in cols:\n",
    "        if type(df[col].dtype) is pd.core.dtypes.dtypes.CategoricalDtype:\n",
    "            print(\"Imputing {} column with most frequent value\".format(col))\n",
    "            mode_imputer = SimpleImputer(strategy='most_frequent')\n",
    "            df.loc[:, col] = mode_imputer.fit_transform(df[[col]])\n",
    "        elif df[col].dtype == 'float64' or df[col].dtype == 'int64':\n",
    "            print(\"Imputing {} column with median value\".format(col))\n",
    "            median_imputer = SimpleImputer(strategy='median')\n",
    "            df.loc[:, col] = median_imputer.fit_transform(df[[col]])\n",
    "        elif df[col].dtype == 'object':\n",
    "            print(\"Imputing {} column with most frequent value\".format(col))\n",
    "            mode_imputer = SimpleImputer(strategy='most_frequent')\n",
    "            df.loc[:, col] = mode_imputer.fit_transform(df[[col]])\n",
    "            # df.loc[:, col] = pd.get_dummies(df[[col]])\n",
    "        elif df[col].dtype == 'datetime64[ns]':\n",
    "            print(\"Imputing {} column with datetime64 value - nothing to do\".format(col))\n",
    "        else:\n",
    "            raise ValueError(\"Invalid column type\")\n",
    "\n",
    "    return df"
   ]
  },
  {
   "cell_type": "code",
   "execution_count": null,
   "metadata": {},
   "outputs": [],
   "source": [
    "clean_listings = replace_missing_values(columns_listings, clean_listings)"
   ]
  },
  {
   "cell_type": "code",
   "execution_count": null,
   "metadata": {},
   "outputs": [],
   "source": [
    "# For the calendar data, all columns and cells are unique. An analyse for missing entries \n",
    "# is not necessary\n",
    "# clean_calendar = replace_missing_values(columns_calendar, clean_calendar)"
   ]
  },
  {
   "cell_type": "code",
   "execution_count": null,
   "metadata": {},
   "outputs": [],
   "source": [
    "clean_listsum = replace_missing_values(columns_listsum, clean_listsum)"
   ]
  },
  {
   "cell_type": "code",
   "execution_count": null,
   "metadata": {},
   "outputs": [],
   "source": [
    "# show the cleaning results from the listings\n",
    "summary(clean_listings)"
   ]
  },
  {
   "cell_type": "code",
   "execution_count": null,
   "metadata": {},
   "outputs": [],
   "source": [
    "# show the cleaning results from the listings_summary\n",
    "summary(clean_listsum)"
   ]
  },
  {
   "cell_type": "code",
   "execution_count": null,
   "metadata": {},
   "outputs": [],
   "source": [
    "# show the cleaning results from the calendar\n",
    "summary(clean_calendar)"
   ]
  },
  {
   "cell_type": "markdown",
   "metadata": {},
   "source": [
    "After imputation, we have successfully removed all the missing values. I check all entries again ..."
   ]
  },
  {
   "cell_type": "code",
   "execution_count": null,
   "metadata": {},
   "outputs": [],
   "source": [
    "clean_listings.sample(5)"
   ]
  },
  {
   "cell_type": "code",
   "execution_count": null,
   "metadata": {},
   "outputs": [],
   "source": [
    "clean_listsum.sample(5)"
   ]
  },
  {
   "cell_type": "code",
   "execution_count": null,
   "metadata": {},
   "outputs": [],
   "source": [
    "clean_calendar.sample(5)"
   ]
  },
  {
   "cell_type": "markdown",
   "metadata": {},
   "source": [
    "<a id='engineer'></a>\n",
    "## 6.2 Feature Engineering\n"
   ]
  },
  {
   "cell_type": "markdown",
   "metadata": {},
   "source": [
    "Merge the clean listings and clean listing summary to one dataframe and give a frame for the further modeling."
   ]
  },
  {
   "cell_type": "code",
   "execution_count": null,
   "metadata": {},
   "outputs": [],
   "source": [
    "# Merge the data of LISTINGS and LISTINGS_SUMMARY and create a new dataframe\n",
    "df_bookings = pd.merge(clean_listings, clean_listsum, how='left', left_on='id', \n",
    "                         right_on='id', validate='one_to_one')"
   ]
  },
  {
   "cell_type": "code",
   "execution_count": null,
   "metadata": {},
   "outputs": [],
   "source": [
    "summary(df_bookings)"
   ]
  },
  {
   "cell_type": "markdown",
   "metadata": {},
   "source": [
    "<a id='Model'></a>\n",
    "## 7 Modeling"
   ]
  },
  {
   "cell_type": "markdown",
   "metadata": {},
   "source": [
    "<a id='ModelRevenue'></a>\n",
    "### 7.1 Build models to predict listing revenues\n",
    "\n",
    "We will estimate the revenue generated by each Airbnb property with the following formula:\n",
    "\n",
    "price \\* minimum_nights \\* number_of_reviews\n",
    "\n",
    "For the modeling and further evaluation, I assume the simplest approach. To provide a conservative estimate, the simple key figures number of bookings or length of stay, number of reviews and the minimum number of nights will suffice. Although prices change slightly over the years, as reflected in the CSV calendar, the constant price from the listing has been used for the sake of simplicity. I will work with estimated revenue from 2019. This should be acceptable for the assumptions. Overall, the estimated sales will be relatively conservative.\n",
    "\n",
    "Here, only one model is developed to predict revenue.\n",
    "\n",
    "Only a subset of the original variables are used. However, this should be sufficient for the central question, what is the best place to live."
   ]
  },
  {
   "cell_type": "code",
   "execution_count": null,
   "metadata": {},
   "outputs": [],
   "source": [
    "# Compute estimated total days booked\n",
    "df_bookings['total_days_booked'] = df_bookings['minimum_nights'] *\\\n",
    "                                    df_bookings['number_of_reviews']"
   ]
  },
  {
   "cell_type": "code",
   "execution_count": null,
   "metadata": {},
   "outputs": [],
   "source": [
    "# Compute estimated revenues\n",
    "df_bookings['estimated_revenue'] = df_bookings['price'] *\\\n",
    "                                    df_bookings['total_days_booked'] "
   ]
  },
  {
   "cell_type": "code",
   "execution_count": null,
   "metadata": {},
   "outputs": [],
   "source": [
    "df_bookings.sample(5)"
   ]
  },
  {
   "cell_type": "code",
   "execution_count": null,
   "metadata": {},
   "outputs": [],
   "source": [
    "df_bookings['estimated_revenue'].describe()"
   ]
  },
  {
   "cell_type": "code",
   "execution_count": null,
   "metadata": {
    "scrolled": true
   },
   "outputs": [],
   "source": [
    "df_bookings['total_days_booked'].describe()"
   ]
  },
  {
   "cell_type": "code",
   "execution_count": null,
   "metadata": {},
   "outputs": [],
   "source": [
    "# heatmap of revenue vs property and room type\n",
    "fig, ax = plt.subplots(figsize=(15,12));\n",
    "berlin_heat = sns.heatmap(df_bookings.groupby(['property_type','room_type']).estimated_revenue.mean().unstack(),cmap=\"Blues\",annot=True, fmt=\".0f\",ax=ax);\n",
    "fig = berlin_heat.get_figure()\n",
    "fig.savefig(\"./figure/berlin_heatmap_room_property.jpg\", bbox_inches='tight')"
   ]
  },
  {
   "cell_type": "code",
   "execution_count": null,
   "metadata": {},
   "outputs": [],
   "source": [
    "# Plot estimated revenues vs number of booked\n",
    "\n",
    "books_vs_revenues = df_bookings.groupby(['neighbourhood_group_cleansed']).agg({'estimated_revenue':'mean','id':'count'})\n",
    "books_vs_revenues.rename(index=str, columns={\"id\": \"number_of_listings\"},inplace=True)\n",
    "\n",
    "fig, ax = plt.subplots(figsize=(15,12))\n",
    "books_vs_revenues.plot.bar(y=['estimated_revenue','number_of_listings'], secondary_y='number_of_listings', ax=ax)\n",
    "ax.set_title(\"Estimated Revenue and Number of Listings per District\", fontsize=30);\n",
    "ax.set_xlabel(\"Number of Books Included\")\n",
    "ax.set_ylabel(\"Estimated Revenue\")\n",
    "fig.savefig(\"./figure/berlin_revenue_listings.jpg\", bbox_inches='tight')"
   ]
  },
  {
   "cell_type": "code",
   "execution_count": null,
   "metadata": {},
   "outputs": [],
   "source": [
    "# What are the most expensive district in Berlin \n",
    "mean = np.mean(df_bookings['price'])\n",
    "percentile = np.percentile(df_bookings['price'], 98)\n",
    "print(percentile)\n",
    "y = df_bookings[(df_bookings['price'] > percentile) ][['price', 'neighbourhood_group_cleansed']]\n",
    "y.shape"
   ]
  },
  {
   "cell_type": "code",
   "execution_count": null,
   "metadata": {},
   "outputs": [],
   "source": [
    "fig, ax = plt.subplots(figsize=(30,20))\n",
    "# sns.boxenplot(y.neighbourhood_group_cleansed, y.price);\n",
    "bplot = sns.boxplot(y='neighbourhood_group_cleansed',\\\n",
    "                    x='price',\\\n",
    "                    data=y,\\\n",
    "                    width=0.5,\\\n",
    "                    palette=\"bright\",\\\n",
    "                    ax=ax\n",
    "                   )\n",
    "ax.set_title(\"Price per District Property\", fontsize=30);\n",
    "ax.set_xlabel(\"Price €\", fontsize=30);\n",
    "ax.set_ylabel(\"Neighbourhood Group\", fontsize=30);\n",
    "\n",
    "fig.savefig(\"./figure/berlin_price_per_district.jpg\", bbox_inches='tight')"
   ]
  },
  {
   "cell_type": "markdown",
   "metadata": {},
   "source": [
    "<a id='ModelRecommend'></a>\n",
    "### 7.2 Recommend what we normally want"
   ]
  },
  {
   "cell_type": "markdown",
   "metadata": {},
   "source": [
    "We now proceed to model building stage . But before we start training the models we perform one last data preparation step.\n",
    "\n",
    "We split the training data in a 80:20 ratio and use the 80 percent of the data to build the model and 20 percent of the data to validate it. While splitting we used the stratify option in the sklearn library to ensure that the data that is selected includes a representative set of the user data with the country destinations in the same proportion as the full dataset. This is very essential since the distribution of the country destination is highly unbalanced ."
   ]
  },
  {
   "cell_type": "code",
   "execution_count": null,
   "metadata": {},
   "outputs": [],
   "source": [
    "df_bookings['review_scores_rating'].describe()"
   ]
  },
  {
   "cell_type": "code",
   "execution_count": null,
   "metadata": {},
   "outputs": [],
   "source": [
    "df_bookings.review_scores_rating.mean()"
   ]
  },
  {
   "cell_type": "code",
   "execution_count": null,
   "metadata": {},
   "outputs": [],
   "source": [
    "books_recommend = df_bookings.copy(deep=True)"
   ]
  },
  {
   "cell_type": "code",
   "execution_count": null,
   "metadata": {},
   "outputs": [],
   "source": [
    "# Plot estimated recommend\n",
    "\n",
    "books_recommend = books_recommend.groupby(['neighbourhood_group_cleansed']).agg({'review_scores_rating':'mean','id':'count'})\n",
    "books_recommend.rename(index=str, columns={\"id\": \"number_of_listings\"},inplace=True)\n",
    "\n",
    "fig, ax = plt.subplots(figsize=(15,12))\n",
    "books_recommend.plot.bar(y=['review_scores_rating','number_of_listings'], secondary_y='number_of_listings', ax=ax)\n",
    "ax.set_title(\"Review Rating and Number of Listings per District\", fontsize=30);\n",
    "ax.set_xlabel(\"Number of Books Included\")\n",
    "ax.set_ylabel(\"Estimated Recommend\")\n",
    "fig.savefig(\"./figure/berlin_rating_listings.jpg\", bbox_inches='tight')"
   ]
  },
  {
   "cell_type": "code",
   "execution_count": null,
   "metadata": {},
   "outputs": [],
   "source": [
    "# sort culomn review_scores_rating descending \n",
    "books_recommend = books_recommend.sort_values(by=['review_scores_rating'], ascending=False)"
   ]
  },
  {
   "cell_type": "code",
   "execution_count": null,
   "metadata": {},
   "outputs": [],
   "source": [
    "# show me the top 10 \n",
    "books_recommend.head(10)"
   ]
  },
  {
   "cell_type": "markdown",
   "metadata": {},
   "source": [
    "<a id='ModelEncodeRFCPCA'></a>\n",
    "### 7.3 Encode The Data And Enjoy Random Forest Classifier "
   ]
  },
  {
   "cell_type": "markdown",
   "metadata": {},
   "source": [
    "Some of these ones are pretty wild looking...  One common way to use PCA is to reduce the dimensionality of high dimensionality data that you want to use for prediction, but the results seem to be overfitting (potentially because their is a lot of noise in the data.  Which can certainly be the case with image data).\n",
    "\n",
    "Let's take a first pass on creating a simple model to predict the values of the images using all of the data."
   ]
  },
  {
   "cell_type": "code",
   "execution_count": null,
   "metadata": {},
   "outputs": [],
   "source": [
    "# save the data ....\n",
    "books_rating = df_bookings.copy(deep=True)"
   ]
  },
  {
   "cell_type": "code",
   "execution_count": null,
   "metadata": {},
   "outputs": [],
   "source": [
    "rm_list = ['accommodates',\n",
    "           'property_type',\n",
    "           'room_type',\n",
    "           'zipcode'\n",
    "          ]\n",
    "\n",
    "books_rating.drop(columns=rm_list,inplace=True)"
   ]
  },
  {
   "cell_type": "code",
   "execution_count": null,
   "metadata": {},
   "outputs": [],
   "source": [
    "categorical_features = ['neighbourhood_cleansed', \n",
    "                        'neighbourhood_group_cleansed'\n",
    "                       ]\n",
    "encode_rating = books_rating.copy(deep=True)\n",
    "encode = LabelEncoder()\n",
    "for j in categorical_features:\n",
    "    encode_rating[j] = encode.fit_transform(books_rating[j].astype('str'))"
   ]
  },
  {
   "cell_type": "code",
   "execution_count": null,
   "metadata": {},
   "outputs": [],
   "source": [
    "summary(encode_rating)"
   ]
  },
  {
   "cell_type": "code",
   "execution_count": null,
   "metadata": {},
   "outputs": [],
   "source": [
    "# Remove ID's since now we are not interested in making predictions\n",
    "encode_rating.set_index('id',inplace=True)"
   ]
  },
  {
   "cell_type": "code",
   "execution_count": null,
   "metadata": {},
   "outputs": [],
   "source": [
    "# Create a new column that for each row, generates a random number between 0 and 1, and\n",
    "# if that value is less than or equal to .80, then sets the value of that cell as True\n",
    "# and false otherwise. This is a quick and dirty way of randomly assigning some rows to\n",
    "# be used as the training data and some as the test data.\n",
    "encode_rating['is_train'] = np.random.uniform(0, 1, len(encode_rating)) <= .80"
   ]
  },
  {
   "cell_type": "code",
   "execution_count": null,
   "metadata": {},
   "outputs": [],
   "source": [
    "# Create two new dataframes, one with the training rows, one with the test rows\n",
    "train, test = encode_rating[encode_rating['is_train']==True], encode_rating[encode_rating['is_train']==False]"
   ]
  },
  {
   "cell_type": "code",
   "execution_count": null,
   "metadata": {},
   "outputs": [],
   "source": [
    "# Show the number of observations for the test and training dataframes\n",
    "print('Number of observations in the training data:', len(train))\n",
    "print('Number of observations in the test data:',len(test))"
   ]
  },
  {
   "cell_type": "code",
   "execution_count": null,
   "metadata": {},
   "outputs": [],
   "source": [
    "test.sample(5)"
   ]
  },
  {
   "cell_type": "code",
   "execution_count": null,
   "metadata": {},
   "outputs": [],
   "source": [
    "# Preprocess Data\n",
    "# Create a list of the feature column's names\n",
    "features = encode_rating.columns[:14]\n",
    "\n",
    "# View features\n",
    "features"
   ]
  },
  {
   "cell_type": "code",
   "execution_count": null,
   "metadata": {},
   "outputs": [],
   "source": [
    "X = test[~(test['neighbourhood_group_cleansed'].isnull())][features]\n",
    "\n",
    "Y = test[~(test['neighbourhood_group_cleansed'].isnull())]['neighbourhood_group_cleansed']\n",
    "\n",
    "X.fillna(0,inplace=True)"
   ]
  },
  {
   "cell_type": "code",
   "execution_count": null,
   "metadata": {},
   "outputs": [],
   "source": [
    "# let see the training with random forest classifier  ... \n",
    "def fit_random_forest_classifier(X, y):\n",
    "    # Set startpoint\n",
    "    starttime = time.time()\n",
    "    #First let's create training and testing data\n",
    "    X_train, X_test, Y_train, Y_test = train_test_split(X, y, test_size=0.33, random_state=42, stratify=Y)\n",
    "    # I could grid search and tune, but let's just fit a simple model to see how it does\n",
    "    # instantiate\n",
    "    clf = RandomForestClassifier(n_estimators=100, max_depth=None)\n",
    "    #fit\n",
    "    clf.fit(X_train, Y_train)\n",
    "    #predict\n",
    "    Y_preds = clf.predict(X_test)\n",
    "    # show the runtime\n",
    "    runtime = time.time() - starttime    \n",
    "    print('Function completed in {:.0f}m {:.0f}s'.format(runtime // 60, runtime % 60))\n",
    "    # Check the score\n",
    "    print ('Accuracy: ' + str(accuracy_score(Y_test, Y_preds)))\n",
    "    crosstab = pd.crosstab(Y_test, Y_preds, rownames=['Actual Destrict'], colnames=['Predicted Destrict'])\n",
    "    \n",
    "    return clf, X_train, Y_preds, crosstab"
   ]
  },
  {
   "cell_type": "code",
   "execution_count": null,
   "metadata": {},
   "outputs": [],
   "source": [
    "clf, X_train, Y_preds, crosstab = fit_random_forest_classifier(X, Y)"
   ]
  },
  {
   "cell_type": "code",
   "execution_count": null,
   "metadata": {},
   "outputs": [],
   "source": [
    "crosstab"
   ]
  },
  {
   "cell_type": "code",
   "execution_count": null,
   "metadata": {},
   "outputs": [],
   "source": [
    "# now have a view to the importance features \n",
    "importances = clf.feature_importances_"
   ]
  },
  {
   "cell_type": "code",
   "execution_count": null,
   "metadata": {},
   "outputs": [],
   "source": [
    "std = np.std([clf.feature_importances_ for tree in clf.estimators_],\n",
    "             axis=0)\n",
    "indices = np.argsort(importances)[::-1]\n",
    "\n",
    "# Print the feature ranking\n",
    "print(\"Feature ranking:\")\n",
    "\n",
    "for f in range(X_train.shape[1]):\n",
    "    print(\"%d. feature %d (%f)\" % (f + 1, indices[f], importances[indices[f]]))"
   ]
  },
  {
   "cell_type": "code",
   "execution_count": null,
   "metadata": {},
   "outputs": [],
   "source": [
    "# Plot feature importance\n",
    "feature_imp = pd.DataFrame(sorted(zip(importances[indices], X_train.columns)), columns=['Value','Feature'])\n",
    "\n",
    "plt.figure(figsize=(16, 8))\n",
    "sns.barplot(x=\"Value\", y=\"Feature\", data=feature_imp.sort_values(by=\"Value\", ascending=False))\n",
    "plt.title('Feature importances', fontsize=18)\n",
    "plt.tight_layout()\n",
    "plt.show()\n",
    "fig.savefig(\"./figure/berlin_randomforest.jpg\", bbox_inches='tight')"
   ]
  },
  {
   "cell_type": "markdown",
   "metadata": {},
   "source": [
    "The model RandomForestClassifier performs pretty well on the test set using the adjusted data. The most importance features in this case is the price and behind this the rating. Let's see how well a model works with PCA"
   ]
  },
  {
   "cell_type": "code",
   "execution_count": null,
   "metadata": {},
   "outputs": [],
   "source": [
    "# pca, X_pca, scaler = do_pca(5, X)\n",
    "\n",
    "\n",
    "# Transforms data using PCA to create n_components, and provides back the results of the\n",
    "# transformation.\n",
    "# n_components - int - the number of principal components to create\n",
    "# data - the data you would like to transform\n",
    "\n",
    "n_components = 5\n",
    "\n",
    "starttime = time.time()\n",
    "scaler = StandardScaler().fit_transform(X)\n",
    "# PCA model\n",
    "books_pca = PCA(n_components)\n",
    "# PCA features\n",
    "X_pca = books_pca.fit_transform(scaler)\n",
    "\n",
    "runtime = time.time() - starttime"
   ]
  },
  {
   "cell_type": "code",
   "execution_count": null,
   "metadata": {},
   "outputs": [],
   "source": [
    "clf_pca, X_train, Y_preds, crosstab = fit_random_forest_classifier(X_pca, Y)"
   ]
  },
  {
   "cell_type": "markdown",
   "metadata": {},
   "source": [
    "Nice, let's look at the positives first... that was super fast. But clearly 5 components isn't giving us enough information to clearly identify the digits. Let's what can I do with this results .."
   ]
  },
  {
   "cell_type": "code",
   "execution_count": null,
   "metadata": {},
   "outputs": [],
   "source": [
    "crosstab"
   ]
  },
  {
   "cell_type": "code",
   "execution_count": null,
   "metadata": {},
   "outputs": [],
   "source": [
    "plt.matshow(books_pca.components_,cmap='viridis')\n",
    "plt.yticks([0,1,2,3,4,5],['1. Comp','2. Comp','3. Comp', '4. Comp', '5. Comp'],fontsize=14)\n",
    "plt.colorbar()\n",
    "plt.xticks(range(len(features)),features,rotation=65,ha='left')\n",
    "plt.show()\n",
    "plt.savefig(\"./figure/berlin_PCA.jpg\", bbox_inches='tight')"
   ]
  },
  {
   "cell_type": "markdown",
   "metadata": {},
   "source": [
    "The most interesting component seems to be cluster 5. It has the highest rating on the price."
   ]
  },
  {
   "cell_type": "code",
   "execution_count": null,
   "metadata": {},
   "outputs": [],
   "source": [
    "# Inverse encode data and give back a data frame\n",
    "def pca_results(full_dataset, pca):\n",
    "    '''\n",
    "    Create a DataFrame of the PCA results\n",
    "    Includes dimension feature weights and explained variance\n",
    "    '''\n",
    "\n",
    "    # Dimension indexing\n",
    "    dimensions = dimensions = ['Dimension {}'.format(i) for i in range(1,len(pca.components_)+1)]\n",
    "\n",
    "    # PCA components\n",
    "    components = pd.DataFrame(np.round(pca.components_, 4), columns = full_dataset.keys())\n",
    "    components.index = dimensions\n",
    "\n",
    "    # PCA explained variance\n",
    "    ratios = pca.explained_variance_ratio_.reshape(len(pca.components_), 1)\n",
    "    variance_ratios = pd.DataFrame(np.round(ratios, 4), columns = ['Explained Variance'])\n",
    "    variance_ratios.index = dimensions\n",
    "\n",
    "    # Return a concatenated DataFrame\n",
    "    return pd.concat([variance_ratios, components], axis = 1)"
   ]
  },
  {
   "cell_type": "code",
   "execution_count": null,
   "metadata": {},
   "outputs": [],
   "source": [
    "df_pca = pca_results(encode_rating, books_pca)"
   ]
  },
  {
   "cell_type": "code",
   "execution_count": null,
   "metadata": {
    "scrolled": true
   },
   "outputs": [],
   "source": [
    "df_pca.head()"
   ]
  },
  {
   "cell_type": "markdown",
   "metadata": {},
   "source": [
    "### get the main information from the PCA, the price and the review_scores_rating"
   ]
  },
  {
   "cell_type": "code",
   "execution_count": null,
   "metadata": {},
   "outputs": [],
   "source": [
    "# get the PCA price information from the 5. dimension\n",
    "pca_price_num = df_pca.price.iloc[4]"
   ]
  },
  {
   "cell_type": "code",
   "execution_count": null,
   "metadata": {},
   "outputs": [],
   "source": [
    "pca_price_num"
   ]
  },
  {
   "cell_type": "code",
   "execution_count": null,
   "metadata": {},
   "outputs": [],
   "source": [
    "# get the PCA review_scores_rating information from the 5. dimension\n",
    "pca_rating_num = df_pca.review_scores_rating.iloc[4]"
   ]
  },
  {
   "cell_type": "code",
   "execution_count": null,
   "metadata": {},
   "outputs": [],
   "source": [
    "pca_rating_num"
   ]
  },
  {
   "cell_type": "markdown",
   "metadata": {},
   "source": [
    "<a id='ModelTime'></a>\n",
    "### 7.4 Time trends"
   ]
  },
  {
   "cell_type": "markdown",
   "metadata": {},
   "source": [
    "I would like to go back to the calendar and look at the occupancy in the last year. It should answer me when I can most likely find an apartment."
   ]
  },
  {
   "cell_type": "code",
   "execution_count": null,
   "metadata": {},
   "outputs": [],
   "source": [
    "# routine to plot the calendar information\n",
    "def date_plot(df, column, plt, title=None):\n",
    "    '''\n",
    "    INPUT\n",
    "    df     - pandas dataframe\n",
    "    column - interval variable as a string\n",
    "    plt    - subplot\n",
    "\n",
    "    OUTPUT\n",
    "    X      - A date plot, with on the  x-axis the timeframe and on the y-axis the column.\n",
    "    ''' \n",
    "    val = 0\n",
    "    plt.plot_date(df['date'], df[column], linestyle='solid', marker='None');\n",
    "    metric = locale.format_string(column, val, grouping=False);\n",
    "    plt.ylabel(metric);\n",
    "    if title is None:\n",
    "        title = metric + ' over time'\n",
    "    plt.title(title)\n",
    "    \n",
    "    return plt"
   ]
  },
  {
   "cell_type": "code",
   "execution_count": null,
   "metadata": {},
   "outputs": [],
   "source": [
    "fig, ax = plt.subplots(figsize=(15, 5))\n",
    "date_plot(clean_calendar, 'occupancy_rate', plt);\n",
    "ax.set_ylim([0, 1]);\n",
    "plt.savefig(\"./figure/berlin_timetrend.jpg\", bbox_inches='tight')"
   ]
  },
  {
   "cell_type": "markdown",
   "metadata": {},
   "source": [
    "<a id='Eval'></a>\n",
    "## 8 Evaluation, design and show the results"
   ]
  },
  {
   "cell_type": "markdown",
   "metadata": {},
   "source": [
    "Build a graph to visualize the results. This visualization should give the answer to my questions. "
   ]
  },
  {
   "cell_type": "markdown",
   "metadata": {},
   "source": [
    "<a id='EvalData'></a>\n",
    "### 8.1 Nice Data in the Neighbourhood"
   ]
  },
  {
   "cell_type": "markdown",
   "metadata": {},
   "source": [
    "I will draw a map showing the average revenue and the number of ads available in each district. If possible, I take over the results from the PCA.\n",
    "\n",
    "The map is displayed interactively. Behind each district are the main information such as district, community, revenue, rating and PCA. The color of the community reflects the rating of the results. Dark means the highest and lightest representation the lowest value.\n",
    "\n",
    "The output of the map is an HTML file because the output of the map in the notebook does not always work as expected. Remember to close the HTML files before running the code block again to generate a new map."
   ]
  },
  {
   "cell_type": "code",
   "execution_count": null,
   "metadata": {},
   "outputs": [],
   "source": [
    "# aggregate the neighbourhood with the estimated revenue\n",
    "books_vs_neighb = df_bookings.groupby(['neighbourhood_cleansed']).agg({'estimated_revenue':'mean',\n",
    "                                                                       'id':'count',\n",
    "                                                                       'review_scores_rating': 'mean',\n",
    "                                                                       'price':'mean'\n",
    "                                                                        })\n",
    "books_vs_neighb.rename(index=str, columns={\"id\": \"number_of_listings\"},inplace=True)\n",
    "# set index new\n",
    "books_vs_neighb = books_vs_neighb.reset_index()\n",
    "# get  neighbourhoods in terms of estimated revenue\n",
    "books_vs_neighb = books_vs_neighb.sort_values(by=['estimated_revenue'], ascending=False)"
   ]
  },
  {
   "cell_type": "code",
   "execution_count": null,
   "metadata": {},
   "outputs": [],
   "source": [
    "# add the calculate PCA components \n",
    "\n",
    "# add the pca_price\n",
    "books_vs_neighb['pca_price'] = books_vs_neighb['price'] * pca_price_num\n",
    "# add the column pca_rating\n",
    "books_vs_neighb['pca_rating'] = books_vs_neighb['review_scores_rating'] * pca_rating_num                            "
   ]
  },
  {
   "cell_type": "code",
   "execution_count": null,
   "metadata": {},
   "outputs": [],
   "source": [
    "# show the top 10 of district \n",
    "books_vs_neighb.head(10)"
   ]
  },
  {
   "cell_type": "markdown",
   "metadata": {},
   "source": [
    "<a id='EvalGoogle'></a>\n",
    "### 8.2 A Picture Can Help "
   ]
  },
  {
   "cell_type": "markdown",
   "metadata": {},
   "source": [
    "We will be plotting a map depicting the average revenue and number of listings available in each neighbourhood. \n",
    "\n",
    "Each colored range represents a neighbourhood. The colour of the range indicates the average amount of revenue generated in each neighbourhood, with higher revenues being represented by dark blue and lower revenues being represented thru white. The size of the circle reflects the number of listings in the neighbourhood. The map's output will be a interactive html file since the output of the map in the notebook will not always work as expected. Remember to close the html files before running the block of code again to generate a new map."
   ]
  },
  {
   "cell_type": "code",
   "execution_count": null,
   "metadata": {},
   "outputs": [],
   "source": [
    "# Reading in google maps api key. Required for bokeh gmaps\n",
    "# For GMaps to function, Google requires you obtain and enable an API key:\n",
    "#\n",
    "#     https://developers.google.com/maps/documentation/javascript/get-api-key\n",
    "#\n",
    "file = open(\"my_api_key.txt\",\"r\")\n",
    "MY_API_KEY = file.read()\n",
    "\n",
    "# Replace with your own google map api\n",
    "# MY_API_KEY = \"\""
   ]
  },
  {
   "cell_type": "code",
   "execution_count": null,
   "metadata": {},
   "outputs": [],
   "source": [
    "# GeoInformation from Berlin\n",
    "crs = 'EPSG:3068' \n",
    "xmin = 13.0800\n",
    "ymin = 52.3300\n",
    "xmax = 13.7700\n",
    "ymax = 52.6800\n",
    "\n",
    "x_range = Range1d(start=xmin, end=xmax, bounds=None)\n",
    "y_range = Range1d(start=ymin, end=ymax, bounds=None)\n",
    "\n",
    "output_file(\"./figure/berlin_evaluation.html\")"
   ]
  },
  {
   "cell_type": "code",
   "execution_count": null,
   "metadata": {},
   "outputs": [],
   "source": [
    "# Create a function the returns json_data for the year selected by the user\n",
    "def json_data(selectedData):\n",
    "    sd = selectedData\n",
    "        \n",
    "    # Merge the GeoDataframe object (nbhgeos) with the neighborhood summary data (books_vs_neighb)\n",
    "    merged = pd.merge(districts, books_vs_neighb, left_on='neighbourhood', right_on='neighbourhood_cleansed', how='left')\n",
    "    # Rename neighbourhood_cleansed to neighborhood\n",
    "    # merged = merged.rename(columns={'neighbourhood_group_x': 'neighbourhood_group'})\n",
    "    \n",
    "    # Fill the null values\n",
    "    values = {'estimated_revenue': 0, \n",
    "              'number_of_listings': 0, \n",
    "              'review_scores_rating': 0,\n",
    "              'pca_price': 0,\n",
    "              'pca_rating': 0\n",
    "             }\n",
    "    merged = merged.fillna(value=values)\n",
    "    \n",
    "    # Bokeh uses geojson formatting, representing geographical features, with json\n",
    "    # Convert to json\n",
    "    merged_json = json.loads(merged.to_json())\n",
    "    \n",
    "    # Convert to json preferred string-like object \n",
    "    json_data = json.dumps(merged_json)\n",
    "    return json_data"
   ]
  },
  {
   "cell_type": "code",
   "execution_count": null,
   "metadata": {},
   "outputs": [],
   "source": [
    "# Define the callback function: update_plot\n",
    "def update_plot(attr, old, new):\n",
    "    # The input yr is the year selected from the slider\n",
    "    cluster = slider.value\n",
    "    new_data = json_data(cluster)\n",
    "    \n",
    "    # The input cr is the criteria selected from the select box\n",
    "    cluster_box = select.value\n",
    "    input_field = format_df.loc[format_df['verbage'] == cluster_box, 'field'].iloc[0]\n",
    "    \n",
    "    # Update the plot based on the changed inputs\n",
    "    p = make_plot(input_field)\n",
    "    \n",
    "    # Update the layout, clear the old document and display the new document\n",
    "    layout = column(p, widgetbox(select), widgetbox(slider))\n",
    "    curdoc().clear()\n",
    "    curdoc().add_root(layout)\n",
    "    \n",
    "    # Update the data\n",
    "    geosource.geojson = new_data "
   ]
  },
  {
   "cell_type": "code",
   "execution_count": null,
   "metadata": {},
   "outputs": [],
   "source": [
    "# Create a plotting function\n",
    "def make_plot(field_name):\n",
    "    \n",
    "    # This dictionary contains the formatting for the data in the plots\n",
    "    format_data = [('estimated_revenue', 0, 25000000,'€0.0', 'Estimated Revenue'),\n",
    "                   ('number_of_listings', 0, 500000,'0.0', 'Number of Listings'),\n",
    "                   ('review_scores_rating', 0, 2500,'0.0', 'Scores Rating'),\n",
    "                   ('pca_price', 0, 2500,'0.0', 'PCA Price'),\n",
    "                   ('pca_rating', 0, 2500,'0.0', 'PCA Rating'),\n",
    "                  ]\n",
    " \n",
    "    #Create a DataFrame object from the dictionary \n",
    "    format_df = pd.DataFrame(format_data, columns = ['field' , 'min_range', 'max_range' , 'format', 'verbage'])\n",
    "    \n",
    "    \n",
    "    # Define a sequential multi-hue color palette.\n",
    "    palette = brewer['Blues'][8]\n",
    "\n",
    "    # Reverse color order so that dark blue is highest obesity.\n",
    "    palette = palette[::-1]\n",
    "  \n",
    "    # Set the format of the colorbar\n",
    "    # Create colorbar formatting lookup table\n",
    "    books_max = books_vs_neighb.estimated_revenue.max()\n",
    "    \n",
    "    min_range = format_df.loc[format_df['field'] == field_name, 'min_range'].iloc[0]\n",
    "    max_range = format_df.loc[format_df['field'] == field_name, 'max_range'].iloc[0]\n",
    "    field_format = format_df.loc[format_df['field'] == field_name, 'format'].iloc[0]\n",
    "\n",
    "    # Instantiate LinearColorMapper that linearly maps numbers in a range, into a sequence of colors.\n",
    "    color_mapper = LinearColorMapper(palette = palette, low = 0, high = books_max)\n",
    "\n",
    "    # Create color bar.\n",
    "    format_tick = NumeralTickFormatter(format=field_format)\n",
    "    color_bar = ColorBar(color_mapper=color_mapper, label_standoff=18, \n",
    "                         formatter=format_tick,\n",
    "                         border_line_color=None, location = (0, 0))\n",
    "\n",
    "    # Create figure object.\n",
    "    verbage = format_df.loc[format_df['field'] == field_name, 'verbage'].iloc[0]\n",
    "\n",
    "    p = figure(title = 'Berlin: ' + verbage + ' by Neighbourhood', \n",
    "             plot_height = 650, plot_width = 850,\n",
    "             toolbar_location = None)\n",
    "    p.xgrid.grid_line_color = None\n",
    "    p.ygrid.grid_line_color = None\n",
    "    p.axis.visible = False\n",
    "\n",
    "    # Add patch renderer to figure. \n",
    "    p.patches('xs','ys', source = geosource, fill_color = {'field' : field_name, 'transform' : color_mapper},\n",
    "          line_color = 'black', line_width = 0.25, fill_alpha = 1)\n",
    "  \n",
    "    # Specify color bar layout.\n",
    "    p.add_layout(color_bar, 'right')\n",
    "\n",
    "    # Add the hover tool to the graph\n",
    "    p.add_tools(hover)\n",
    "    return p, color_bar"
   ]
  },
  {
   "cell_type": "markdown",
   "metadata": {},
   "source": [
    "### Prepare geo data"
   ]
  },
  {
   "cell_type": "code",
   "execution_count": null,
   "metadata": {},
   "outputs": [],
   "source": [
    "# Hint: The districts are saved as MULTIPOLYGON. So I dissolved this ..\n",
    "districts = nbhgeos.dissolve(by='neighbourhood')"
   ]
  },
  {
   "cell_type": "code",
   "execution_count": null,
   "metadata": {},
   "outputs": [],
   "source": [
    "# Set the Coordinate Referance System (crs) for projections\n",
    "# ESPG code 3068 für Berlin\n",
    "districts.crs = {'init': 'epsg:3068'}"
   ]
  },
  {
   "cell_type": "code",
   "execution_count": null,
   "metadata": {},
   "outputs": [],
   "source": [
    "districts = districts.reset_index()"
   ]
  },
  {
   "cell_type": "code",
   "execution_count": null,
   "metadata": {},
   "outputs": [],
   "source": [
    "districts.head()"
   ]
  },
  {
   "cell_type": "code",
   "execution_count": null,
   "metadata": {},
   "outputs": [],
   "source": [
    "summary(districts)"
   ]
  },
  {
   "cell_type": "markdown",
   "metadata": {},
   "source": [
    "#### Build the geo data and plot the information"
   ]
  },
  {
   "cell_type": "code",
   "execution_count": null,
   "metadata": {},
   "outputs": [],
   "source": [
    "# get the married dates from geoinformation berlin and the analyzed data \n",
    "geosource = GeoJSONDataSource(geojson = json_data(all))"
   ]
  },
  {
   "cell_type": "code",
   "execution_count": null,
   "metadata": {},
   "outputs": [],
   "source": [
    "# Control field for the interactive information\n",
    "input_field = 'estimated_revenue'\n",
    "\n",
    "# Add hover tool\n",
    "hover = HoverTool(tooltips = [ ('Neighborhood','@neighbourhood'),\n",
    "                               ('Neighborhood Group','@neighbourhood_group'),\n",
    "                               ('Estimated Revenue', 'Tsd €@estimated_revenue'),\n",
    "                               ('Number of Listings', '@number_of_listings{,}'),\n",
    "                               ('Scores Rating', '@review_scores_rating{,}'),\n",
    "                               ('PCA Price', '@pca_price{,}'),\n",
    "                               ('PCA Rating', '@pca_rating{,}'),\n",
    "                             ])\n",
    "\n",
    "# Call the plotting function\n",
    "pic, color_bar = make_plot(input_field)\n",
    "\n",
    "# Use the following code to test in a notebook\n",
    "# Interactive features will no show in notebook\n",
    "output_notebook()\n",
    "show(pic)"
   ]
  },
  {
   "cell_type": "markdown",
   "metadata": {},
   "source": [
    "<a id='EvalConclusion'></a>\n",
    "### 8.3 Conclusion \n",
    "\n",
    "Finally, I would like to reiterate my questions:\n",
    "\n",
    "#### What is the booking load\n",
    "\n",
    "In the chapter \"5.5 Neighborhouds\", \"5.6 Neighborhouds GeoInformation\" and \"7.1 Build models to predict listing quotations\" on it received and looked for the answer.\n",
    "\n",
    "#### How is the district scoring?\n",
    "\n",
    "A good visualization of this question can be found in the chapter \"7.2 Recommend what we normally want\" as an answer.\n",
    "\n",
    "#### What are the revenues of the district?\n",
    "\n",
    "Somewhat more extensive was the income expected in the chapter \"7.1 Build models to predict listing revenues\".\n",
    "\n",
    "#### Where can I find the best place to live?\n",
    "\n",
    "After modeling the data with the RandomFirestClassifier and PCA, we again ask for the best place to live and give the answer in a Google Maps as a depletion."
   ]
  },
  {
   "cell_type": "markdown",
   "metadata": {},
   "source": [
    "<a id='Deploy'></a>\n",
    "## 9 Deployment\n",
    "\n",
    "Key findings from this analysis are used in a [blog post](https://https://medium.com/p/e0a70f3534ac/). \n",
    "This analysis can found [here](https://github.com/gerald-e/WADSBP_AirBnB)"
   ]
  },
  {
   "cell_type": "code",
   "execution_count": null,
   "metadata": {},
   "outputs": [],
   "source": [
    "!jupyter nbconvert AirBnB_accomondation.ipynb"
   ]
  },
  {
   "cell_type": "code",
   "execution_count": null,
   "metadata": {},
   "outputs": [],
   "source": [
    "!pip freeze > requirements.txt"
   ]
  }
 ],
 "metadata": {
  "kernelspec": {
   "display_name": "Python 3",
   "language": "python",
   "name": "python3"
  },
  "language_info": {
   "codemirror_mode": {
    "name": "ipython",
    "version": 3
   },
   "file_extension": ".py",
   "mimetype": "text/x-python",
   "name": "python",
   "nbconvert_exporter": "python",
   "pygments_lexer": "ipython3",
   "version": "3.7.3"
  }
 },
 "nbformat": 4,
 "nbformat_minor": 2
}
